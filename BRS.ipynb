{
 "cells": [
  {
   "cell_type": "markdown",
   "metadata": {
    "id": "_FNZpP0NHbNm"
   },
   "source": [
    "<b><h1>Books Recommendation System"
   ]
  },
  {
   "cell_type": "code",
   "execution_count": 1,
   "metadata": {
    "executionInfo": {
     "elapsed": 1059,
     "status": "ok",
     "timestamp": 1623912080527,
     "user": {
      "displayName": "Ashima IIITD",
      "photoUrl": "https://lh3.googleusercontent.com/a-/AOh14Gg51iTXizYDNTZkEdwmQ5GkwRQ8vp_9KTB8UVlC=s64",
      "userId": "02694856405090268186"
     },
     "user_tz": -330
    },
    "id": "5i_ZACcBHbNp"
   },
   "outputs": [],
   "source": [
    "import re\n",
    "import pickle\n",
    "import operator\n",
    "import numpy as np\n",
    "import pandas as pd\n",
    "import seaborn as sns\n",
    "import matplotlib.pyplot as plt\n",
    "from collections import Counter\n",
    "from scipy.sparse import csr_matrix\n",
    "from pandas.api.types import is_numeric_dtype\n",
    "from sklearn.neighbors import NearestNeighbors\n",
    "from sklearn.feature_extraction import DictVectorizer\n",
    "from sklearn.metrics.pairwise import cosine_similarity\n",
    "from sklearn.feature_extraction.text import TfidfVectorizer\n",
    "\n",
    "import warnings\n",
    "warnings.filterwarnings(\"ignore\")"
   ]
  },
  {
   "cell_type": "code",
   "execution_count": 2,
   "metadata": {
    "colab": {
     "base_uri": "https://localhost:8080/"
    },
    "executionInfo": {
     "elapsed": 8655,
     "status": "ok",
     "timestamp": 1623912089180,
     "user": {
      "displayName": "Ashima IIITD",
      "photoUrl": "https://lh3.googleusercontent.com/a-/AOh14Gg51iTXizYDNTZkEdwmQ5GkwRQ8vp_9KTB8UVlC=s64",
      "userId": "02694856405090268186"
     },
     "user_tz": -330
    },
    "id": "XgvzNVu2HbNz",
    "outputId": "d875c6e1-1494-4f41-aed7-aa1361a39a80"
   },
   "outputs": [
    {
     "name": "stdout",
     "output_type": "stream",
     "text": [
      "Books Data:     (271360, 8)\n",
      "Users Data:     (278858, 3)\n",
      "Books-ratings:  (1149780, 3)\n"
     ]
    }
   ],
   "source": [
    "books = pd.read_csv(r\"Datasets/Books.csv\", delimiter=';', error_bad_lines=False, encoding='ISO-8859-1', warn_bad_lines=False)\n",
    "users = pd.read_csv(r\"Datasets/Users.csv\", delimiter=';', error_bad_lines=False, encoding='ISO-8859-1', warn_bad_lines=False)\n",
    "ratings = pd.read_csv(r\"Datasets/Book-Ratings.csv\", delimiter=';', error_bad_lines=False, encoding='ISO-8859-1', warn_bad_lines=False)\n",
    "\n",
    "print(\"Books Data:    \", books.shape)\n",
    "print(\"Users Data:    \", users.shape)\n",
    "print(\"Books-ratings: \", ratings.shape)"
   ]
  },
  {
   "cell_type": "code",
   "execution_count": 4,
   "metadata": {
    "colab": {
     "base_uri": "https://localhost:8080/",
     "height": 204
    },
    "executionInfo": {
     "elapsed": 33,
     "status": "ok",
     "timestamp": 1623912089188,
     "user": {
      "displayName": "Ashima IIITD",
      "photoUrl": "https://lh3.googleusercontent.com/a-/AOh14Gg51iTXizYDNTZkEdwmQ5GkwRQ8vp_9KTB8UVlC=s64",
      "userId": "02694856405090268186"
     },
     "user_tz": -330
    },
    "id": "x5FXDpgoHbN8",
    "outputId": "8cc385e8-9bf6-4a7a-d400-da19fad9201a"
   },
   "outputs": [
    {
     "data": {
      "text/html": [
       "<div>\n",
       "<style scoped>\n",
       "    .dataframe tbody tr th:only-of-type {\n",
       "        vertical-align: middle;\n",
       "    }\n",
       "\n",
       "    .dataframe tbody tr th {\n",
       "        vertical-align: top;\n",
       "    }\n",
       "\n",
       "    .dataframe thead th {\n",
       "        text-align: right;\n",
       "    }\n",
       "</style>\n",
       "<table border=\"1\" class=\"dataframe\">\n",
       "  <thead>\n",
       "    <tr style=\"text-align: right;\">\n",
       "      <th></th>\n",
       "      <th>ISBN</th>\n",
       "      <th>Book-Title</th>\n",
       "      <th>Book-Author</th>\n",
       "      <th>Year-Of-Publication</th>\n",
       "      <th>Publisher</th>\n",
       "    </tr>\n",
       "  </thead>\n",
       "  <tbody>\n",
       "    <tr>\n",
       "      <th>0</th>\n",
       "      <td>0195153448</td>\n",
       "      <td>Classical Mythology</td>\n",
       "      <td>Mark P. O. Morford</td>\n",
       "      <td>2002</td>\n",
       "      <td>Oxford University Press</td>\n",
       "    </tr>\n",
       "    <tr>\n",
       "      <th>1</th>\n",
       "      <td>0002005018</td>\n",
       "      <td>Clara Callan</td>\n",
       "      <td>Richard Bruce Wright</td>\n",
       "      <td>2001</td>\n",
       "      <td>HarperFlamingo Canada</td>\n",
       "    </tr>\n",
       "    <tr>\n",
       "      <th>2</th>\n",
       "      <td>0060973129</td>\n",
       "      <td>Decision in Normandy</td>\n",
       "      <td>Carlo D'Este</td>\n",
       "      <td>1991</td>\n",
       "      <td>HarperPerennial</td>\n",
       "    </tr>\n",
       "    <tr>\n",
       "      <th>3</th>\n",
       "      <td>0374157065</td>\n",
       "      <td>Flu: The Story of the Great Influenza Pandemic...</td>\n",
       "      <td>Gina Bari Kolata</td>\n",
       "      <td>1999</td>\n",
       "      <td>Farrar Straus Giroux</td>\n",
       "    </tr>\n",
       "    <tr>\n",
       "      <th>4</th>\n",
       "      <td>0393045218</td>\n",
       "      <td>The Mummies of Urumchi</td>\n",
       "      <td>E. J. W. Barber</td>\n",
       "      <td>1999</td>\n",
       "      <td>W. W. Norton &amp;amp; Company</td>\n",
       "    </tr>\n",
       "  </tbody>\n",
       "</table>\n",
       "</div>"
      ],
      "text/plain": [
       "         ISBN                                         Book-Title  \\\n",
       "0  0195153448                                Classical Mythology   \n",
       "1  0002005018                                       Clara Callan   \n",
       "2  0060973129                               Decision in Normandy   \n",
       "3  0374157065  Flu: The Story of the Great Influenza Pandemic...   \n",
       "4  0393045218                             The Mummies of Urumchi   \n",
       "\n",
       "            Book-Author Year-Of-Publication                   Publisher  \n",
       "0    Mark P. O. Morford                2002     Oxford University Press  \n",
       "1  Richard Bruce Wright                2001       HarperFlamingo Canada  \n",
       "2          Carlo D'Este                1991             HarperPerennial  \n",
       "3      Gina Bari Kolata                1999        Farrar Straus Giroux  \n",
       "4       E. J. W. Barber                1999  W. W. Norton &amp; Company  "
      ]
     },
     "execution_count": 4,
     "metadata": {},
     "output_type": "execute_result"
    }
   ],
   "source": [
    "books.drop(['Image-URL-S', 'Image-URL-M', 'Image-URL-L'], axis=1, inplace=True)\n",
    "books.head()"
   ]
  },
  {
   "cell_type": "code",
   "execution_count": 5,
   "metadata": {
    "colab": {
     "base_uri": "https://localhost:8080/"
    },
    "executionInfo": {
     "elapsed": 33,
     "status": "ok",
     "timestamp": 1623912089189,
     "user": {
      "displayName": "Ashima IIITD",
      "photoUrl": "https://lh3.googleusercontent.com/a-/AOh14Gg51iTXizYDNTZkEdwmQ5GkwRQ8vp_9KTB8UVlC=s64",
      "userId": "02694856405090268186"
     },
     "user_tz": -330
    },
    "id": "7FRBFHbiHbN_",
    "outputId": "e024e560-35cf-4d9c-e4ca-bfcbd1219a5d"
   },
   "outputs": [
    {
     "data": {
      "text/plain": [
       "ISBN                   0\n",
       "Book-Title             0\n",
       "Book-Author            1\n",
       "Year-Of-Publication    0\n",
       "Publisher              2\n",
       "dtype: int64"
      ]
     },
     "execution_count": 5,
     "metadata": {},
     "output_type": "execute_result"
    }
   ],
   "source": [
    "books.isnull().sum() "
   ]
  },
  {
   "cell_type": "code",
   "execution_count": 6,
   "metadata": {
    "colab": {
     "base_uri": "https://localhost:8080/",
     "height": 80
    },
    "executionInfo": {
     "elapsed": 28,
     "status": "ok",
     "timestamp": 1623912089189,
     "user": {
      "displayName": "Ashima IIITD",
      "photoUrl": "https://lh3.googleusercontent.com/a-/AOh14Gg51iTXizYDNTZkEdwmQ5GkwRQ8vp_9KTB8UVlC=s64",
      "userId": "02694856405090268186"
     },
     "user_tz": -330
    },
    "id": "nWpbrzAyHbOB",
    "outputId": "2573da38-51f7-4555-fce7-f9fee0b9a78f"
   },
   "outputs": [
    {
     "data": {
      "text/html": [
       "<div>\n",
       "<style scoped>\n",
       "    .dataframe tbody tr th:only-of-type {\n",
       "        vertical-align: middle;\n",
       "    }\n",
       "\n",
       "    .dataframe tbody tr th {\n",
       "        vertical-align: top;\n",
       "    }\n",
       "\n",
       "    .dataframe thead th {\n",
       "        text-align: right;\n",
       "    }\n",
       "</style>\n",
       "<table border=\"1\" class=\"dataframe\">\n",
       "  <thead>\n",
       "    <tr style=\"text-align: right;\">\n",
       "      <th></th>\n",
       "      <th>ISBN</th>\n",
       "      <th>Book-Title</th>\n",
       "      <th>Book-Author</th>\n",
       "      <th>Year-Of-Publication</th>\n",
       "      <th>Publisher</th>\n",
       "    </tr>\n",
       "  </thead>\n",
       "  <tbody>\n",
       "    <tr>\n",
       "      <th>187689</th>\n",
       "      <td>9627982032</td>\n",
       "      <td>The Credit Suisse Guide to Managing Your Perso...</td>\n",
       "      <td>NaN</td>\n",
       "      <td>1995</td>\n",
       "      <td>Edinburgh Financial Publishing</td>\n",
       "    </tr>\n",
       "  </tbody>\n",
       "</table>\n",
       "</div>"
      ],
      "text/plain": [
       "              ISBN                                         Book-Title  \\\n",
       "187689  9627982032  The Credit Suisse Guide to Managing Your Perso...   \n",
       "\n",
       "       Book-Author Year-Of-Publication                       Publisher  \n",
       "187689         NaN                1995  Edinburgh Financial Publishing  "
      ]
     },
     "execution_count": 6,
     "metadata": {},
     "output_type": "execute_result"
    }
   ],
   "source": [
    "books.loc[books['Book-Author'].isnull(),:]"
   ]
  },
  {
   "cell_type": "code",
   "execution_count": 7,
   "metadata": {
    "colab": {
     "base_uri": "https://localhost:8080/",
     "height": 111
    },
    "executionInfo": {
     "elapsed": 28,
     "status": "ok",
     "timestamp": 1623912089190,
     "user": {
      "displayName": "Ashima IIITD",
      "photoUrl": "https://lh3.googleusercontent.com/a-/AOh14Gg51iTXizYDNTZkEdwmQ5GkwRQ8vp_9KTB8UVlC=s64",
      "userId": "02694856405090268186"
     },
     "user_tz": -330
    },
    "id": "qA3l-OrpHbOF",
    "outputId": "4f3bde52-9597-4272-ef45-a9b6eeba3950"
   },
   "outputs": [
    {
     "data": {
      "text/html": [
       "<div>\n",
       "<style scoped>\n",
       "    .dataframe tbody tr th:only-of-type {\n",
       "        vertical-align: middle;\n",
       "    }\n",
       "\n",
       "    .dataframe tbody tr th {\n",
       "        vertical-align: top;\n",
       "    }\n",
       "\n",
       "    .dataframe thead th {\n",
       "        text-align: right;\n",
       "    }\n",
       "</style>\n",
       "<table border=\"1\" class=\"dataframe\">\n",
       "  <thead>\n",
       "    <tr style=\"text-align: right;\">\n",
       "      <th></th>\n",
       "      <th>ISBN</th>\n",
       "      <th>Book-Title</th>\n",
       "      <th>Book-Author</th>\n",
       "      <th>Year-Of-Publication</th>\n",
       "      <th>Publisher</th>\n",
       "    </tr>\n",
       "  </thead>\n",
       "  <tbody>\n",
       "    <tr>\n",
       "      <th>128890</th>\n",
       "      <td>193169656X</td>\n",
       "      <td>Tyrant Moon</td>\n",
       "      <td>Elaine Corvidae</td>\n",
       "      <td>2002</td>\n",
       "      <td>NaN</td>\n",
       "    </tr>\n",
       "    <tr>\n",
       "      <th>129037</th>\n",
       "      <td>1931696993</td>\n",
       "      <td>Finders Keepers</td>\n",
       "      <td>Linnea Sinclair</td>\n",
       "      <td>2001</td>\n",
       "      <td>NaN</td>\n",
       "    </tr>\n",
       "  </tbody>\n",
       "</table>\n",
       "</div>"
      ],
      "text/plain": [
       "              ISBN       Book-Title      Book-Author Year-Of-Publication  \\\n",
       "128890  193169656X      Tyrant Moon  Elaine Corvidae                2002   \n",
       "129037  1931696993  Finders Keepers  Linnea Sinclair                2001   \n",
       "\n",
       "       Publisher  \n",
       "128890       NaN  \n",
       "129037       NaN  "
      ]
     },
     "execution_count": 7,
     "metadata": {},
     "output_type": "execute_result"
    }
   ],
   "source": [
    "books.loc[books['Publisher'].isnull(),:]"
   ]
  },
  {
   "cell_type": "code",
   "execution_count": 8,
   "metadata": {
    "executionInfo": {
     "elapsed": 27,
     "status": "ok",
     "timestamp": 1623912089190,
     "user": {
      "displayName": "Ashima IIITD",
      "photoUrl": "https://lh3.googleusercontent.com/a-/AOh14Gg51iTXizYDNTZkEdwmQ5GkwRQ8vp_9KTB8UVlC=s64",
      "userId": "02694856405090268186"
     },
     "user_tz": -330
    },
    "id": "__WHZnoBHbOI"
   },
   "outputs": [],
   "source": [
    "books.at[187689 ,'Book-Author'] = 'Other'\n",
    "\n",
    "books.at[128890 ,'Publisher'] = 'Other'\n",
    "books.at[129037 ,'Publisher'] = 'Other'"
   ]
  },
  {
   "cell_type": "code",
   "execution_count": 9,
   "metadata": {
    "colab": {
     "base_uri": "https://localhost:8080/"
    },
    "executionInfo": {
     "elapsed": 27,
     "status": "ok",
     "timestamp": 1623912089191,
     "user": {
      "displayName": "Ashima IIITD",
      "photoUrl": "https://lh3.googleusercontent.com/a-/AOh14Gg51iTXizYDNTZkEdwmQ5GkwRQ8vp_9KTB8UVlC=s64",
      "userId": "02694856405090268186"
     },
     "user_tz": -330
    },
    "id": "LN38SO2AHbON",
    "outputId": "bb6b44f4-d7ae-4a3f-b0c3-e7126e41c2f5"
   },
   "outputs": [
    {
     "data": {
      "text/plain": [
       "array([2002, 2001, 1991, 1999, 2000, 1993, 1996, 1988, 2004, 1998, 1994,\n",
       "       2003, 1997, 1983, 1979, 1995, 1982, 1985, 1992, 1986, 1978, 1980,\n",
       "       1952, 1987, 1990, 1981, 1989, 1984, 0, 1968, 1961, 1958, 1974,\n",
       "       1976, 1971, 1977, 1975, 1965, 1941, 1970, 1962, 1973, 1972, 1960,\n",
       "       1966, 1920, 1956, 1959, 1953, 1951, 1942, 1963, 1964, 1969, 1954,\n",
       "       1950, 1967, 2005, 1957, 1940, 1937, 1955, 1946, 1936, 1930, 2011,\n",
       "       1925, 1948, 1943, 1947, 1945, 1923, 2020, 1939, 1926, 1938, 2030,\n",
       "       1911, 1904, 1949, 1932, 1928, 1929, 1927, 1931, 1914, 2050, 1934,\n",
       "       1910, 1933, 1902, 1924, 1921, 1900, 2038, 2026, 1944, 1917, 1901,\n",
       "       2010, 1908, 1906, 1935, 1806, 2021, '2000', '1995', '1999', '2004',\n",
       "       '2003', '1990', '1994', '1986', '1989', '2002', '1981', '1993',\n",
       "       '1983', '1982', '1976', '1991', '1977', '1998', '1992', '1996',\n",
       "       '0', '1997', '2001', '1974', '1968', '1987', '1984', '1988',\n",
       "       '1963', '1956', '1970', '1985', '1978', '1973', '1980', '1979',\n",
       "       '1975', '1969', '1961', '1965', '1939', '1958', '1950', '1953',\n",
       "       '1966', '1971', '1959', '1972', '1955', '1957', '1945', '1960',\n",
       "       '1967', '1932', '1924', '1964', '2012', '1911', '1927', '1948',\n",
       "       '1962', '2006', '1952', '1940', '1951', '1931', '1954', '2005',\n",
       "       '1930', '1941', '1944', 'DK Publishing Inc', '1943', '1938',\n",
       "       '1900', '1942', '1923', '1920', '1933', 'Gallimard', '1909',\n",
       "       '1946', '2008', '1378', '2030', '1936', '1947', '2011', '2020',\n",
       "       '1919', '1949', '1922', '1897', '2024', '1376', '1926', '2037'],\n",
       "      dtype=object)"
      ]
     },
     "execution_count": 9,
     "metadata": {},
     "output_type": "execute_result"
    }
   ],
   "source": [
    "books['Year-Of-Publication'].unique()"
   ]
  },
  {
   "cell_type": "code",
   "execution_count": 10,
   "metadata": {
    "executionInfo": {
     "elapsed": 22,
     "status": "ok",
     "timestamp": 1623912089191,
     "user": {
      "displayName": "Ashima IIITD",
      "photoUrl": "https://lh3.googleusercontent.com/a-/AOh14Gg51iTXizYDNTZkEdwmQ5GkwRQ8vp_9KTB8UVlC=s64",
      "userId": "02694856405090268186"
     },
     "user_tz": -330
    },
    "id": "lqwXbFTCHbOQ"
   },
   "outputs": [],
   "source": [
    "pd.set_option('display.max_colwidth', -1)"
   ]
  },
  {
   "cell_type": "code",
   "execution_count": 11,
   "metadata": {
    "colab": {
     "base_uri": "https://localhost:8080/",
     "height": 111
    },
    "executionInfo": {
     "elapsed": 692,
     "status": "ok",
     "timestamp": 1623912089861,
     "user": {
      "displayName": "Ashima IIITD",
      "photoUrl": "https://lh3.googleusercontent.com/a-/AOh14Gg51iTXizYDNTZkEdwmQ5GkwRQ8vp_9KTB8UVlC=s64",
      "userId": "02694856405090268186"
     },
     "user_tz": -330
    },
    "id": "iBzWyoNuHbOS",
    "outputId": "3bd3aafa-7ebe-464c-e9f6-9b09e71b6031"
   },
   "outputs": [
    {
     "data": {
      "text/html": [
       "<div>\n",
       "<style scoped>\n",
       "    .dataframe tbody tr th:only-of-type {\n",
       "        vertical-align: middle;\n",
       "    }\n",
       "\n",
       "    .dataframe tbody tr th {\n",
       "        vertical-align: top;\n",
       "    }\n",
       "\n",
       "    .dataframe thead th {\n",
       "        text-align: right;\n",
       "    }\n",
       "</style>\n",
       "<table border=\"1\" class=\"dataframe\">\n",
       "  <thead>\n",
       "    <tr style=\"text-align: right;\">\n",
       "      <th></th>\n",
       "      <th>ISBN</th>\n",
       "      <th>Book-Title</th>\n",
       "      <th>Book-Author</th>\n",
       "      <th>Year-Of-Publication</th>\n",
       "      <th>Publisher</th>\n",
       "    </tr>\n",
       "  </thead>\n",
       "  <tbody>\n",
       "    <tr>\n",
       "      <th>209538</th>\n",
       "      <td>078946697X</td>\n",
       "      <td>DK Readers: Creating the X-Men, How It All Began (Level 4: Proficient Readers)\\\";Michael Teitelbaum\"</td>\n",
       "      <td>2000</td>\n",
       "      <td>DK Publishing Inc</td>\n",
       "      <td>http://images.amazon.com/images/P/078946697X.01.THUMBZZZ.jpg</td>\n",
       "    </tr>\n",
       "    <tr>\n",
       "      <th>221678</th>\n",
       "      <td>0789466953</td>\n",
       "      <td>DK Readers: Creating the X-Men, How Comic Books Come to Life (Level 4: Proficient Readers)\\\";James Buckley\"</td>\n",
       "      <td>2000</td>\n",
       "      <td>DK Publishing Inc</td>\n",
       "      <td>http://images.amazon.com/images/P/0789466953.01.THUMBZZZ.jpg</td>\n",
       "    </tr>\n",
       "  </tbody>\n",
       "</table>\n",
       "</div>"
      ],
      "text/plain": [
       "              ISBN  \\\n",
       "209538  078946697X   \n",
       "221678  0789466953   \n",
       "\n",
       "                                                                                                         Book-Title  \\\n",
       "209538  DK Readers: Creating the X-Men, How It All Began (Level 4: Proficient Readers)\\\";Michael Teitelbaum\"          \n",
       "221678  DK Readers: Creating the X-Men, How Comic Books Come to Life (Level 4: Proficient Readers)\\\";James Buckley\"   \n",
       "\n",
       "       Book-Author Year-Of-Publication  \\\n",
       "209538  2000        DK Publishing Inc    \n",
       "221678  2000        DK Publishing Inc    \n",
       "\n",
       "                                                           Publisher  \n",
       "209538  http://images.amazon.com/images/P/078946697X.01.THUMBZZZ.jpg  \n",
       "221678  http://images.amazon.com/images/P/0789466953.01.THUMBZZZ.jpg  "
      ]
     },
     "execution_count": 11,
     "metadata": {},
     "output_type": "execute_result"
    }
   ],
   "source": [
    "books.loc[books['Year-Of-Publication'] == 'DK Publishing Inc',:]"
   ]
  },
  {
   "cell_type": "code",
   "execution_count": 12,
   "metadata": {
    "colab": {
     "base_uri": "https://localhost:8080/",
     "height": 80
    },
    "executionInfo": {
     "elapsed": 19,
     "status": "ok",
     "timestamp": 1623912089861,
     "user": {
      "displayName": "Ashima IIITD",
      "photoUrl": "https://lh3.googleusercontent.com/a-/AOh14Gg51iTXizYDNTZkEdwmQ5GkwRQ8vp_9KTB8UVlC=s64",
      "userId": "02694856405090268186"
     },
     "user_tz": -330
    },
    "id": "wl5XyqQWHbOV",
    "outputId": "4eebe45b-aebf-4d83-ea4f-0b2e425b1750"
   },
   "outputs": [
    {
     "data": {
      "text/html": [
       "<div>\n",
       "<style scoped>\n",
       "    .dataframe tbody tr th:only-of-type {\n",
       "        vertical-align: middle;\n",
       "    }\n",
       "\n",
       "    .dataframe tbody tr th {\n",
       "        vertical-align: top;\n",
       "    }\n",
       "\n",
       "    .dataframe thead th {\n",
       "        text-align: right;\n",
       "    }\n",
       "</style>\n",
       "<table border=\"1\" class=\"dataframe\">\n",
       "  <thead>\n",
       "    <tr style=\"text-align: right;\">\n",
       "      <th></th>\n",
       "      <th>ISBN</th>\n",
       "      <th>Book-Title</th>\n",
       "      <th>Book-Author</th>\n",
       "      <th>Year-Of-Publication</th>\n",
       "      <th>Publisher</th>\n",
       "    </tr>\n",
       "  </thead>\n",
       "  <tbody>\n",
       "    <tr>\n",
       "      <th>220731</th>\n",
       "      <td>2070426769</td>\n",
       "      <td>Peuple du ciel, suivi de 'Les Bergers\\\";Jean-Marie Gustave Le ClÃ?Â©zio\"</td>\n",
       "      <td>2003</td>\n",
       "      <td>Gallimard</td>\n",
       "      <td>http://images.amazon.com/images/P/2070426769.01.THUMBZZZ.jpg</td>\n",
       "    </tr>\n",
       "  </tbody>\n",
       "</table>\n",
       "</div>"
      ],
      "text/plain": [
       "              ISBN  \\\n",
       "220731  2070426769   \n",
       "\n",
       "                                                                      Book-Title  \\\n",
       "220731  Peuple du ciel, suivi de 'Les Bergers\\\";Jean-Marie Gustave Le ClÃ?Â©zio\"   \n",
       "\n",
       "       Book-Author Year-Of-Publication  \\\n",
       "220731  2003        Gallimard            \n",
       "\n",
       "                                                           Publisher  \n",
       "220731  http://images.amazon.com/images/P/2070426769.01.THUMBZZZ.jpg  "
      ]
     },
     "execution_count": 12,
     "metadata": {},
     "output_type": "execute_result"
    }
   ],
   "source": [
    "books.loc[books['Year-Of-Publication'] == 'Gallimard',:]"
   ]
  },
  {
   "cell_type": "code",
   "execution_count": 13,
   "metadata": {
    "executionInfo": {
     "elapsed": 19,
     "status": "ok",
     "timestamp": 1623912089862,
     "user": {
      "displayName": "Ashima IIITD",
      "photoUrl": "https://lh3.googleusercontent.com/a-/AOh14Gg51iTXizYDNTZkEdwmQ5GkwRQ8vp_9KTB8UVlC=s64",
      "userId": "02694856405090268186"
     },
     "user_tz": -330
    },
    "id": "CLblVmh1HbOY"
   },
   "outputs": [],
   "source": [
    "books.at[209538 ,'Publisher'] = 'DK Publishing Inc'\n",
    "books.at[209538 ,'Year-Of-Publication'] = 2000\n",
    "books.at[209538 ,'Book-Title'] = 'DK Readers: Creating the X-Men, How It All Began (Level 4: Proficient Readers)'\n",
    "books.at[209538 ,'Book-Author'] = 'Michael Teitelbaum'\n",
    "\n",
    "books.at[221678 ,'Publisher'] = 'DK Publishing Inc'\n",
    "books.at[221678 ,'Year-Of-Publication'] = 2000\n",
    "books.at[209538 ,'Book-Title'] = 'DK Readers: Creating the X-Men, How Comic Books Come to Life (Level 4: Proficient Readers)'\n",
    "books.at[209538 ,'Book-Author'] = 'James Buckley'\n",
    "\n",
    "books.at[220731 ,'Publisher'] = 'Gallimard'\n",
    "books.at[220731 ,'Year-Of-Publication'] = '2003'\n",
    "books.at[209538 ,'Book-Title'] = 'Peuple du ciel - Suivi de Les bergers '\n",
    "books.at[209538 ,'Book-Author'] = 'Jean-Marie Gustave Le ClÃ?Â©zio'"
   ]
  },
  {
   "cell_type": "code",
   "execution_count": 14,
   "metadata": {
    "executionInfo": {
     "elapsed": 19,
     "status": "ok",
     "timestamp": 1623912089862,
     "user": {
      "displayName": "Ashima IIITD",
      "photoUrl": "https://lh3.googleusercontent.com/a-/AOh14Gg51iTXizYDNTZkEdwmQ5GkwRQ8vp_9KTB8UVlC=s64",
      "userId": "02694856405090268186"
     },
     "user_tz": -330
    },
    "id": "acUEVhEQHbOb"
   },
   "outputs": [],
   "source": [
    "books['Year-Of-Publication'] = books['Year-Of-Publication'].astype(int)"
   ]
  },
  {
   "cell_type": "code",
   "execution_count": 15,
   "metadata": {
    "colab": {
     "base_uri": "https://localhost:8080/"
    },
    "executionInfo": {
     "elapsed": 19,
     "status": "ok",
     "timestamp": 1623912089863,
     "user": {
      "displayName": "Ashima IIITD",
      "photoUrl": "https://lh3.googleusercontent.com/a-/AOh14Gg51iTXizYDNTZkEdwmQ5GkwRQ8vp_9KTB8UVlC=s64",
      "userId": "02694856405090268186"
     },
     "user_tz": -330
    },
    "id": "avUSyhPwHbOd",
    "outputId": "1d8deb05-8b79-4917-8740-3d32d10e2d2e"
   },
   "outputs": [
    {
     "name": "stdout",
     "output_type": "stream",
     "text": [
      "[0, 1376, 1378, 1806, 1897, 1900, 1901, 1902, 1904, 1906, 1908, 1909, 1910, 1911, 1914, 1917, 1919, 1920, 1921, 1922, 1923, 1924, 1925, 1926, 1927, 1928, 1929, 1930, 1931, 1932, 1933, 1934, 1935, 1936, 1937, 1938, 1939, 1940, 1941, 1942, 1943, 1944, 1945, 1946, 1947, 1948, 1949, 1950, 1951, 1952, 1953, 1954, 1955, 1956, 1957, 1958, 1959, 1960, 1961, 1962, 1963, 1964, 1965, 1966, 1967, 1968, 1969, 1970, 1971, 1972, 1973, 1974, 1975, 1976, 1977, 1978, 1979, 1980, 1981, 1982, 1983, 1984, 1985, 1986, 1987, 1988, 1989, 1990, 1991, 1992, 1993, 1994, 1995, 1996, 1997, 1998, 1999, 2000, 2001, 2002, 2003, 2004, 2005, 2006, 2008, 2010, 2011, 2012, 2020, 2021, 2024, 2026, 2030, 2037, 2038, 2050]\n"
     ]
    }
   ],
   "source": [
    "print(sorted(list(books['Year-Of-Publication'].unique())))"
   ]
  },
  {
   "cell_type": "code",
   "execution_count": 16,
   "metadata": {
    "colab": {
     "base_uri": "https://localhost:8080/"
    },
    "executionInfo": {
     "elapsed": 15,
     "status": "ok",
     "timestamp": 1623912089863,
     "user": {
      "displayName": "Ashima IIITD",
      "photoUrl": "https://lh3.googleusercontent.com/a-/AOh14Gg51iTXizYDNTZkEdwmQ5GkwRQ8vp_9KTB8UVlC=s64",
      "userId": "02694856405090268186"
     },
     "user_tz": -330
    },
    "id": "8Mo7fz3nHbOg",
    "outputId": "67ef1018-0ecd-443e-c6b9-5ff8c3b7039f"
   },
   "outputs": [
    {
     "data": {
      "text/plain": [
       "[2002]"
      ]
     },
     "execution_count": 16,
     "metadata": {},
     "output_type": "execute_result"
    }
   ],
   "source": [
    "count = Counter(books['Year-Of-Publication'])\n",
    "[k for k, v in count.items() if v == max(count.values())]"
   ]
  },
  {
   "cell_type": "code",
   "execution_count": 17,
   "metadata": {
    "executionInfo": {
     "elapsed": 12,
     "status": "ok",
     "timestamp": 1623912089864,
     "user": {
      "displayName": "Ashima IIITD",
      "photoUrl": "https://lh3.googleusercontent.com/a-/AOh14Gg51iTXizYDNTZkEdwmQ5GkwRQ8vp_9KTB8UVlC=s64",
      "userId": "02694856405090268186"
     },
     "user_tz": -330
    },
    "id": "rUBTN5NcHbOl"
   },
   "outputs": [],
   "source": [
    "books.loc[books['Year-Of-Publication'] > 2021, 'Year-Of-Publication'] = 2002\n",
    "books.loc[books['Year-Of-Publication'] == 0, 'Year-Of-Publication'] = 2002"
   ]
  },
  {
   "cell_type": "code",
   "execution_count": 18,
   "metadata": {
    "executionInfo": {
     "elapsed": 12,
     "status": "ok",
     "timestamp": 1623912089864,
     "user": {
      "displayName": "Ashima IIITD",
      "photoUrl": "https://lh3.googleusercontent.com/a-/AOh14Gg51iTXizYDNTZkEdwmQ5GkwRQ8vp_9KTB8UVlC=s64",
      "userId": "02694856405090268186"
     },
     "user_tz": -330
    },
    "id": "jplGFvIISnEW"
   },
   "outputs": [],
   "source": [
    "books['ISBN'] = books['ISBN'].str.upper()"
   ]
  },
  {
   "cell_type": "code",
   "execution_count": 19,
   "metadata": {
    "executionInfo": {
     "elapsed": 12,
     "status": "ok",
     "timestamp": 1623912089865,
     "user": {
      "displayName": "Ashima IIITD",
      "photoUrl": "https://lh3.googleusercontent.com/a-/AOh14Gg51iTXizYDNTZkEdwmQ5GkwRQ8vp_9KTB8UVlC=s64",
      "userId": "02694856405090268186"
     },
     "user_tz": -330
    },
    "id": "fqd1CGiOo4mx"
   },
   "outputs": [],
   "source": [
    "books.drop_duplicates(keep='last', inplace=True) \n",
    "books.reset_index(drop = True, inplace = True)"
   ]
  },
  {
   "cell_type": "code",
   "execution_count": 20,
   "metadata": {
    "colab": {
     "base_uri": "https://localhost:8080/"
    },
    "executionInfo": {
     "elapsed": 704,
     "status": "ok",
     "timestamp": 1623912090557,
     "user": {
      "displayName": "Ashima IIITD",
      "photoUrl": "https://lh3.googleusercontent.com/a-/AOh14Gg51iTXizYDNTZkEdwmQ5GkwRQ8vp_9KTB8UVlC=s64",
      "userId": "02694856405090268186"
     },
     "user_tz": -330
    },
    "id": "qEJLCHTzHbOp",
    "outputId": "a83a2e43-432f-4961-f3b6-820972eac04c"
   },
   "outputs": [
    {
     "name": "stdout",
     "output_type": "stream",
     "text": [
      "<class 'pandas.core.frame.DataFrame'>\n",
      "RangeIndex: 271047 entries, 0 to 271046\n",
      "Data columns (total 5 columns):\n",
      " #   Column               Non-Null Count   Dtype \n",
      "---  ------               --------------   ----- \n",
      " 0   ISBN                 271047 non-null  object\n",
      " 1   Book-Title           271047 non-null  object\n",
      " 2   Book-Author          271047 non-null  object\n",
      " 3   Year-Of-Publication  271047 non-null  int32 \n",
      " 4   Publisher            271047 non-null  object\n",
      "dtypes: int32(1), object(4)\n",
      "memory usage: 9.3+ MB\n"
     ]
    }
   ],
   "source": [
    "books.info()"
   ]
  },
  {
   "cell_type": "code",
   "execution_count": 21,
   "metadata": {
    "colab": {
     "base_uri": "https://localhost:8080/",
     "height": 204
    },
    "executionInfo": {
     "elapsed": 25,
     "status": "ok",
     "timestamp": 1623912090558,
     "user": {
      "displayName": "Ashima IIITD",
      "photoUrl": "https://lh3.googleusercontent.com/a-/AOh14Gg51iTXizYDNTZkEdwmQ5GkwRQ8vp_9KTB8UVlC=s64",
      "userId": "02694856405090268186"
     },
     "user_tz": -330
    },
    "id": "F6dXwCPwK6hb",
    "outputId": "4aa13490-0959-4fb6-b012-6ea44a97548d"
   },
   "outputs": [
    {
     "data": {
      "text/html": [
       "<div>\n",
       "<style scoped>\n",
       "    .dataframe tbody tr th:only-of-type {\n",
       "        vertical-align: middle;\n",
       "    }\n",
       "\n",
       "    .dataframe tbody tr th {\n",
       "        vertical-align: top;\n",
       "    }\n",
       "\n",
       "    .dataframe thead th {\n",
       "        text-align: right;\n",
       "    }\n",
       "</style>\n",
       "<table border=\"1\" class=\"dataframe\">\n",
       "  <thead>\n",
       "    <tr style=\"text-align: right;\">\n",
       "      <th></th>\n",
       "      <th>ISBN</th>\n",
       "      <th>Book-Title</th>\n",
       "      <th>Book-Author</th>\n",
       "      <th>Year-Of-Publication</th>\n",
       "      <th>Publisher</th>\n",
       "    </tr>\n",
       "  </thead>\n",
       "  <tbody>\n",
       "    <tr>\n",
       "      <th>0</th>\n",
       "      <td>0195153448</td>\n",
       "      <td>Classical Mythology</td>\n",
       "      <td>Mark P. O. Morford</td>\n",
       "      <td>2002</td>\n",
       "      <td>Oxford University Press</td>\n",
       "    </tr>\n",
       "    <tr>\n",
       "      <th>1</th>\n",
       "      <td>0002005018</td>\n",
       "      <td>Clara Callan</td>\n",
       "      <td>Richard Bruce Wright</td>\n",
       "      <td>2001</td>\n",
       "      <td>HarperFlamingo Canada</td>\n",
       "    </tr>\n",
       "    <tr>\n",
       "      <th>2</th>\n",
       "      <td>0060973129</td>\n",
       "      <td>Decision in Normandy</td>\n",
       "      <td>Carlo D'Este</td>\n",
       "      <td>1991</td>\n",
       "      <td>HarperPerennial</td>\n",
       "    </tr>\n",
       "    <tr>\n",
       "      <th>3</th>\n",
       "      <td>0374157065</td>\n",
       "      <td>Flu: The Story of the Great Influenza Pandemic of 1918 and the Search for the Virus That Caused It</td>\n",
       "      <td>Gina Bari Kolata</td>\n",
       "      <td>1999</td>\n",
       "      <td>Farrar Straus Giroux</td>\n",
       "    </tr>\n",
       "    <tr>\n",
       "      <th>4</th>\n",
       "      <td>0393045218</td>\n",
       "      <td>The Mummies of Urumchi</td>\n",
       "      <td>E. J. W. Barber</td>\n",
       "      <td>1999</td>\n",
       "      <td>W. W. Norton &amp;amp; Company</td>\n",
       "    </tr>\n",
       "  </tbody>\n",
       "</table>\n",
       "</div>"
      ],
      "text/plain": [
       "         ISBN  \\\n",
       "0  0195153448   \n",
       "1  0002005018   \n",
       "2  0060973129   \n",
       "3  0374157065   \n",
       "4  0393045218   \n",
       "\n",
       "                                                                                           Book-Title  \\\n",
       "0  Classical Mythology                                                                                  \n",
       "1  Clara Callan                                                                                         \n",
       "2  Decision in Normandy                                                                                 \n",
       "3  Flu: The Story of the Great Influenza Pandemic of 1918 and the Search for the Virus That Caused It   \n",
       "4  The Mummies of Urumchi                                                                               \n",
       "\n",
       "            Book-Author  Year-Of-Publication                   Publisher  \n",
       "0  Mark P. O. Morford    2002                 Oxford University Press     \n",
       "1  Richard Bruce Wright  2001                 HarperFlamingo Canada       \n",
       "2  Carlo D'Este          1991                 HarperPerennial             \n",
       "3  Gina Bari Kolata      1999                 Farrar Straus Giroux        \n",
       "4  E. J. W. Barber       1999                 W. W. Norton &amp; Company  "
      ]
     },
     "execution_count": 21,
     "metadata": {},
     "output_type": "execute_result"
    }
   ],
   "source": [
    "books.head()"
   ]
  },
  {
   "cell_type": "code",
   "execution_count": 22,
   "metadata": {
    "colab": {
     "base_uri": "https://localhost:8080/",
     "height": 221
    },
    "executionInfo": {
     "elapsed": 24,
     "status": "ok",
     "timestamp": 1623912090558,
     "user": {
      "displayName": "Ashima IIITD",
      "photoUrl": "https://lh3.googleusercontent.com/a-/AOh14Gg51iTXizYDNTZkEdwmQ5GkwRQ8vp_9KTB8UVlC=s64",
      "userId": "02694856405090268186"
     },
     "user_tz": -330
    },
    "id": "shXVpl1le_4f",
    "outputId": "ddd49246-2626-43c6-c01e-adf997324c94"
   },
   "outputs": [
    {
     "name": "stdout",
     "output_type": "stream",
     "text": [
      "Columns:  ['User-ID', 'Location', 'Age']\n"
     ]
    },
    {
     "data": {
      "text/html": [
       "<div>\n",
       "<style scoped>\n",
       "    .dataframe tbody tr th:only-of-type {\n",
       "        vertical-align: middle;\n",
       "    }\n",
       "\n",
       "    .dataframe tbody tr th {\n",
       "        vertical-align: top;\n",
       "    }\n",
       "\n",
       "    .dataframe thead th {\n",
       "        text-align: right;\n",
       "    }\n",
       "</style>\n",
       "<table border=\"1\" class=\"dataframe\">\n",
       "  <thead>\n",
       "    <tr style=\"text-align: right;\">\n",
       "      <th></th>\n",
       "      <th>User-ID</th>\n",
       "      <th>Location</th>\n",
       "      <th>Age</th>\n",
       "    </tr>\n",
       "  </thead>\n",
       "  <tbody>\n",
       "    <tr>\n",
       "      <th>0</th>\n",
       "      <td>1</td>\n",
       "      <td>nyc, new york, usa</td>\n",
       "      <td>NaN</td>\n",
       "    </tr>\n",
       "    <tr>\n",
       "      <th>1</th>\n",
       "      <td>2</td>\n",
       "      <td>stockton, california, usa</td>\n",
       "      <td>18.0</td>\n",
       "    </tr>\n",
       "    <tr>\n",
       "      <th>2</th>\n",
       "      <td>3</td>\n",
       "      <td>moscow, yukon territory, russia</td>\n",
       "      <td>NaN</td>\n",
       "    </tr>\n",
       "    <tr>\n",
       "      <th>3</th>\n",
       "      <td>4</td>\n",
       "      <td>porto, v.n.gaia, portugal</td>\n",
       "      <td>17.0</td>\n",
       "    </tr>\n",
       "    <tr>\n",
       "      <th>4</th>\n",
       "      <td>5</td>\n",
       "      <td>farnborough, hants, united kingdom</td>\n",
       "      <td>NaN</td>\n",
       "    </tr>\n",
       "  </tbody>\n",
       "</table>\n",
       "</div>"
      ],
      "text/plain": [
       "   User-ID                            Location   Age\n",
       "0  1        nyc, new york, usa                 NaN  \n",
       "1  2        stockton, california, usa           18.0\n",
       "2  3        moscow, yukon territory, russia    NaN  \n",
       "3  4        porto, v.n.gaia, portugal           17.0\n",
       "4  5        farnborough, hants, united kingdom NaN  "
      ]
     },
     "execution_count": 22,
     "metadata": {},
     "output_type": "execute_result"
    }
   ],
   "source": [
    "print(\"Columns: \", list(users.columns))\n",
    "users.head()"
   ]
  },
  {
   "cell_type": "code",
   "execution_count": 23,
   "metadata": {
    "colab": {
     "base_uri": "https://localhost:8080/"
    },
    "executionInfo": {
     "elapsed": 19,
     "status": "ok",
     "timestamp": 1623912090559,
     "user": {
      "displayName": "Ashima IIITD",
      "photoUrl": "https://lh3.googleusercontent.com/a-/AOh14Gg51iTXizYDNTZkEdwmQ5GkwRQ8vp_9KTB8UVlC=s64",
      "userId": "02694856405090268186"
     },
     "user_tz": -330
    },
    "id": "IgUWcug6HbPR",
    "outputId": "33afab7a-92de-4e36-d755-8225397da763"
   },
   "outputs": [
    {
     "name": "stdout",
     "output_type": "stream",
     "text": [
      "User-ID     0     \n",
      "Location    0     \n",
      "Age         110762\n",
      "dtype: int64\n"
     ]
    }
   ],
   "source": [
    "print(users.isna().sum())               "
   ]
  },
  {
   "cell_type": "code",
   "execution_count": 24,
   "metadata": {
    "colab": {
     "base_uri": "https://localhost:8080/"
    },
    "executionInfo": {
     "elapsed": 16,
     "status": "ok",
     "timestamp": 1623912090559,
     "user": {
      "displayName": "Ashima IIITD",
      "photoUrl": "https://lh3.googleusercontent.com/a-/AOh14Gg51iTXizYDNTZkEdwmQ5GkwRQ8vp_9KTB8UVlC=s64",
      "userId": "02694856405090268186"
     },
     "user_tz": -330
    },
    "id": "hZBdnU-idiZv",
    "outputId": "b12343ad-0722-4702-8ef2-83165ce14d2a"
   },
   "outputs": [
    {
     "name": "stdout",
     "output_type": "stream",
     "text": [
      "[nan, 0.0, 1.0, 2.0, 3.0, 4.0, 5.0, 6.0, 7.0, 8.0, 9.0, 10.0, 11.0, 12.0, 13.0, 14.0, 15.0, 16.0, 17.0, 18.0, 19.0, 20.0, 21.0, 22.0, 23.0, 24.0, 25.0, 26.0, 27.0, 28.0, 29.0, 30.0, 31.0, 32.0, 33.0, 34.0, 35.0, 36.0, 37.0, 38.0, 39.0, 40.0, 41.0, 42.0, 43.0, 44.0, 45.0, 46.0, 47.0, 48.0, 49.0, 50.0, 51.0, 52.0, 53.0, 54.0, 55.0, 56.0, 57.0, 58.0, 59.0, 60.0, 61.0, 62.0, 63.0, 64.0, 65.0, 66.0, 67.0, 68.0, 69.0, 70.0, 71.0, 72.0, 73.0, 74.0, 75.0, 76.0, 77.0, 78.0, 79.0, 80.0, 81.0, 82.0, 83.0, 84.0, 85.0, 86.0, 87.0, 88.0, 89.0, 90.0, 91.0, 92.0, 93.0, 94.0, 95.0, 96.0, 97.0, 98.0, 99.0, 100.0, 101.0, 102.0, 103.0, 104.0, 105.0, 106.0, 107.0, 108.0, 109.0, 110.0, 111.0, 113.0, 114.0, 115.0, 116.0, 118.0, 119.0, 123.0, 124.0, 127.0, 128.0, 132.0, 133.0, 136.0, 137.0, 138.0, 140.0, 141.0, 143.0, 146.0, 147.0, 148.0, 151.0, 152.0, 156.0, 157.0, 159.0, 162.0, 168.0, 172.0, 175.0, 183.0, 186.0, 189.0, 199.0, 200.0, 201.0, 204.0, 207.0, 208.0, 209.0, 210.0, 212.0, 219.0, 220.0, 223.0, 226.0, 228.0, 229.0, 230.0, 231.0, 237.0, 239.0, 244.0]\n"
     ]
    }
   ],
   "source": [
    "print(sorted(list(users['Age'].unique())))"
   ]
  },
  {
   "cell_type": "code",
   "execution_count": 25,
   "metadata": {
    "executionInfo": {
     "elapsed": 14,
     "status": "ok",
     "timestamp": 1623912090560,
     "user": {
      "displayName": "Ashima IIITD",
      "photoUrl": "https://lh3.googleusercontent.com/a-/AOh14Gg51iTXizYDNTZkEdwmQ5GkwRQ8vp_9KTB8UVlC=s64",
      "userId": "02694856405090268186"
     },
     "user_tz": -330
    },
    "id": "H3dNYNstdiik"
   },
   "outputs": [],
   "source": [
    "required = users[users['Age'] <= 80]\n",
    "required = required[required['Age'] >= 10]"
   ]
  },
  {
   "cell_type": "code",
   "execution_count": 26,
   "metadata": {
    "colab": {
     "base_uri": "https://localhost:8080/"
    },
    "executionInfo": {
     "elapsed": 13,
     "status": "ok",
     "timestamp": 1623912090560,
     "user": {
      "displayName": "Ashima IIITD",
      "photoUrl": "https://lh3.googleusercontent.com/a-/AOh14Gg51iTXizYDNTZkEdwmQ5GkwRQ8vp_9KTB8UVlC=s64",
      "userId": "02694856405090268186"
     },
     "user_tz": -330
    },
    "id": "0KVi6a6bd_Yo",
    "outputId": "7eb43572-b05b-4003-d1aa-1be23858e9ca"
   },
   "outputs": [
    {
     "data": {
      "text/plain": [
       "35"
      ]
     },
     "execution_count": 26,
     "metadata": {},
     "output_type": "execute_result"
    }
   ],
   "source": [
    "mean = round(required['Age'].mean())   \n",
    "mean"
   ]
  },
  {
   "cell_type": "code",
   "execution_count": 27,
   "metadata": {
    "executionInfo": {
     "elapsed": 11,
     "status": "ok",
     "timestamp": 1623912090561,
     "user": {
      "displayName": "Ashima IIITD",
      "photoUrl": "https://lh3.googleusercontent.com/a-/AOh14Gg51iTXizYDNTZkEdwmQ5GkwRQ8vp_9KTB8UVlC=s64",
      "userId": "02694856405090268186"
     },
     "user_tz": -330
    },
    "id": "C1YOTtiNNDYp"
   },
   "outputs": [],
   "source": [
    "users.loc[users['Age'] > 80, 'Age'] = mean     \n",
    "users.loc[users['Age'] < 10, 'Age'] = mean    \n",
    "users['Age'] = users['Age'].fillna(mean)      \n",
    "users['Age'] = users['Age'].astype(int)       "
   ]
  },
  {
   "cell_type": "code",
   "execution_count": 28,
   "metadata": {
    "colab": {
     "base_uri": "https://localhost:8080/"
    },
    "executionInfo": {
     "elapsed": 18207,
     "status": "ok",
     "timestamp": 1623912108757,
     "user": {
      "displayName": "Ashima IIITD",
      "photoUrl": "https://lh3.googleusercontent.com/a-/AOh14Gg51iTXizYDNTZkEdwmQ5GkwRQ8vp_9KTB8UVlC=s64",
      "userId": "02694856405090268186"
     },
     "user_tz": -330
    },
    "id": "2StAXDft_6qg",
    "outputId": "429b3beb-739f-4ca4-f4a0-749b3cd1be1a"
   },
   "outputs": [
    {
     "name": "stdout",
     "output_type": "stream",
     "text": [
      "4659\n",
      "16044\n"
     ]
    }
   ],
   "source": [
    "list_ = users.Location.str.split(', ')\n",
    "\n",
    "city = []\n",
    "state = []\n",
    "country = []\n",
    "count_no_state = 0    \n",
    "count_no_country = 0\n",
    "\n",
    "for i in range(0,len(list_)):\n",
    "    if list_[i][0] == ' ' or list_[i][0] == '' or list_[i][0]=='n/a' or list_[i][0] == ',':  #removing invalid entries too\n",
    "        city.append('other')\n",
    "    else:\n",
    "        city.append(list_[i][0].lower())\n",
    "\n",
    "    if(len(list_[i])<2):\n",
    "        state.append('other')\n",
    "        country.append('other')\n",
    "        count_no_state += 1\n",
    "        count_no_country += 1\n",
    "    else:\n",
    "        if list_[i][1] == ' ' or list_[i][1] == '' or list_[i][1]=='n/a' or list_[i][1] == ',':   #removing invalid entries \n",
    "            state.append('other')\n",
    "            count_no_state += 1            \n",
    "        else:\n",
    "            state.append(list_[i][1].lower())\n",
    "        \n",
    "        if(len(list_[i])<3):\n",
    "            country.append('other')\n",
    "            count_no_country += 1\n",
    "        else:\n",
    "            if list_[i][2] == ''or list_[i][1] == ',' or list_[i][2] == ' ' or list_[i][2] == 'n/a':\n",
    "                country.append('other')\n",
    "                count_no_country += 1\n",
    "            else:\n",
    "                country.append(list_[i][2].lower())\n",
    "        \n",
    "users = users.drop('Location',axis=1)\n",
    "\n",
    "temp = []\n",
    "for ent in city:\n",
    "    c = ent.split('/')             \n",
    "    temp.append(c[0])\n",
    "\n",
    "df_city = pd.DataFrame(temp,columns=['City'])\n",
    "df_state = pd.DataFrame(state,columns=['State'])\n",
    "df_country = pd.DataFrame(country,columns=['Country'])\n",
    "\n",
    "users = pd.concat([users, df_city], axis=1)\n",
    "users = pd.concat([users, df_state], axis=1)\n",
    "users = pd.concat([users, df_country], axis=1)\n",
    "\n",
    "print(count_no_country)    \n",
    "print(count_no_state)      "
   ]
  },
  {
   "cell_type": "code",
   "execution_count": 29,
   "metadata": {
    "executionInfo": {
     "elapsed": 23,
     "status": "ok",
     "timestamp": 1623912108758,
     "user": {
      "displayName": "Ashima IIITD",
      "photoUrl": "https://lh3.googleusercontent.com/a-/AOh14Gg51iTXizYDNTZkEdwmQ5GkwRQ8vp_9KTB8UVlC=s64",
      "userId": "02694856405090268186"
     },
     "user_tz": -330
    },
    "id": "NqkVvAytpNUe"
   },
   "outputs": [],
   "source": [
    "## Drop duplicate rows\n",
    "users.drop_duplicates(keep='last', inplace=True)\n",
    "users.reset_index(drop=True, inplace=True)"
   ]
  },
  {
   "cell_type": "code",
   "execution_count": 30,
   "metadata": {
    "colab": {
     "base_uri": "https://localhost:8080/"
    },
    "executionInfo": {
     "elapsed": 23,
     "status": "ok",
     "timestamp": 1623912108759,
     "user": {
      "displayName": "Ashima IIITD",
      "photoUrl": "https://lh3.googleusercontent.com/a-/AOh14Gg51iTXizYDNTZkEdwmQ5GkwRQ8vp_9KTB8UVlC=s64",
      "userId": "02694856405090268186"
     },
     "user_tz": -330
    },
    "id": "cF_aI6ObPXiE",
    "outputId": "72df13ee-ef47-44ae-f7a6-c3594eb16123"
   },
   "outputs": [
    {
     "name": "stdout",
     "output_type": "stream",
     "text": [
      "<class 'pandas.core.frame.DataFrame'>\n",
      "RangeIndex: 278858 entries, 0 to 278857\n",
      "Data columns (total 5 columns):\n",
      " #   Column   Non-Null Count   Dtype \n",
      "---  ------   --------------   ----- \n",
      " 0   User-ID  278858 non-null  int64 \n",
      " 1   Age      278858 non-null  int32 \n",
      " 2   City     278858 non-null  object\n",
      " 3   State    278858 non-null  object\n",
      " 4   Country  278858 non-null  object\n",
      "dtypes: int32(1), int64(1), object(3)\n",
      "memory usage: 9.6+ MB\n"
     ]
    }
   ],
   "source": [
    "users.info()"
   ]
  },
  {
   "cell_type": "code",
   "execution_count": 31,
   "metadata": {
    "colab": {
     "base_uri": "https://localhost:8080/",
     "height": 204
    },
    "executionInfo": {
     "elapsed": 16,
     "status": "ok",
     "timestamp": 1623912108759,
     "user": {
      "displayName": "Ashima IIITD",
      "photoUrl": "https://lh3.googleusercontent.com/a-/AOh14Gg51iTXizYDNTZkEdwmQ5GkwRQ8vp_9KTB8UVlC=s64",
      "userId": "02694856405090268186"
     },
     "user_tz": -330
    },
    "id": "9G6vM-BYLNFf",
    "outputId": "c93373b0-8213-4962-f8fb-d9444f08b078"
   },
   "outputs": [
    {
     "data": {
      "text/html": [
       "<div>\n",
       "<style scoped>\n",
       "    .dataframe tbody tr th:only-of-type {\n",
       "        vertical-align: middle;\n",
       "    }\n",
       "\n",
       "    .dataframe tbody tr th {\n",
       "        vertical-align: top;\n",
       "    }\n",
       "\n",
       "    .dataframe thead th {\n",
       "        text-align: right;\n",
       "    }\n",
       "</style>\n",
       "<table border=\"1\" class=\"dataframe\">\n",
       "  <thead>\n",
       "    <tr style=\"text-align: right;\">\n",
       "      <th></th>\n",
       "      <th>User-ID</th>\n",
       "      <th>Age</th>\n",
       "      <th>City</th>\n",
       "      <th>State</th>\n",
       "      <th>Country</th>\n",
       "    </tr>\n",
       "  </thead>\n",
       "  <tbody>\n",
       "    <tr>\n",
       "      <th>0</th>\n",
       "      <td>1</td>\n",
       "      <td>35</td>\n",
       "      <td>nyc</td>\n",
       "      <td>new york</td>\n",
       "      <td>usa</td>\n",
       "    </tr>\n",
       "    <tr>\n",
       "      <th>1</th>\n",
       "      <td>2</td>\n",
       "      <td>18</td>\n",
       "      <td>stockton</td>\n",
       "      <td>california</td>\n",
       "      <td>usa</td>\n",
       "    </tr>\n",
       "    <tr>\n",
       "      <th>2</th>\n",
       "      <td>3</td>\n",
       "      <td>35</td>\n",
       "      <td>moscow</td>\n",
       "      <td>yukon territory</td>\n",
       "      <td>russia</td>\n",
       "    </tr>\n",
       "    <tr>\n",
       "      <th>3</th>\n",
       "      <td>4</td>\n",
       "      <td>17</td>\n",
       "      <td>porto</td>\n",
       "      <td>v.n.gaia</td>\n",
       "      <td>portugal</td>\n",
       "    </tr>\n",
       "    <tr>\n",
       "      <th>4</th>\n",
       "      <td>5</td>\n",
       "      <td>35</td>\n",
       "      <td>farnborough</td>\n",
       "      <td>hants</td>\n",
       "      <td>united kingdom</td>\n",
       "    </tr>\n",
       "  </tbody>\n",
       "</table>\n",
       "</div>"
      ],
      "text/plain": [
       "   User-ID  Age         City            State         Country\n",
       "0  1        35   nyc          new york         usa           \n",
       "1  2        18   stockton     california       usa           \n",
       "2  3        35   moscow       yukon territory  russia        \n",
       "3  4        17   porto        v.n.gaia         portugal      \n",
       "4  5        35   farnborough  hants            united kingdom"
      ]
     },
     "execution_count": 31,
     "metadata": {},
     "output_type": "execute_result"
    }
   ],
   "source": [
    "users.head()"
   ]
  },
  {
   "cell_type": "markdown",
   "metadata": {
    "id": "T2ALKysTHbPb"
   },
   "source": [
    "<b>Books-Ratings Dataset Pre-processing"
   ]
  },
  {
   "cell_type": "code",
   "execution_count": 32,
   "metadata": {
    "colab": {
     "base_uri": "https://localhost:8080/",
     "height": 221
    },
    "executionInfo": {
     "elapsed": 653,
     "status": "ok",
     "timestamp": 1623912109397,
     "user": {
      "displayName": "Ashima IIITD",
      "photoUrl": "https://lh3.googleusercontent.com/a-/AOh14Gg51iTXizYDNTZkEdwmQ5GkwRQ8vp_9KTB8UVlC=s64",
      "userId": "02694856405090268186"
     },
     "user_tz": -330
    },
    "id": "rFGWikWJgYaC",
    "outputId": "41431b40-2940-4a3b-f728-8f475e66d179"
   },
   "outputs": [
    {
     "name": "stdout",
     "output_type": "stream",
     "text": [
      "Columns:  ['User-ID', 'ISBN', 'Book-Rating']\n"
     ]
    },
    {
     "data": {
      "text/html": [
       "<div>\n",
       "<style scoped>\n",
       "    .dataframe tbody tr th:only-of-type {\n",
       "        vertical-align: middle;\n",
       "    }\n",
       "\n",
       "    .dataframe tbody tr th {\n",
       "        vertical-align: top;\n",
       "    }\n",
       "\n",
       "    .dataframe thead th {\n",
       "        text-align: right;\n",
       "    }\n",
       "</style>\n",
       "<table border=\"1\" class=\"dataframe\">\n",
       "  <thead>\n",
       "    <tr style=\"text-align: right;\">\n",
       "      <th></th>\n",
       "      <th>User-ID</th>\n",
       "      <th>ISBN</th>\n",
       "      <th>Book-Rating</th>\n",
       "    </tr>\n",
       "  </thead>\n",
       "  <tbody>\n",
       "    <tr>\n",
       "      <th>0</th>\n",
       "      <td>276725</td>\n",
       "      <td>034545104X</td>\n",
       "      <td>0</td>\n",
       "    </tr>\n",
       "    <tr>\n",
       "      <th>1</th>\n",
       "      <td>276726</td>\n",
       "      <td>0155061224</td>\n",
       "      <td>5</td>\n",
       "    </tr>\n",
       "    <tr>\n",
       "      <th>2</th>\n",
       "      <td>276727</td>\n",
       "      <td>0446520802</td>\n",
       "      <td>0</td>\n",
       "    </tr>\n",
       "    <tr>\n",
       "      <th>3</th>\n",
       "      <td>276729</td>\n",
       "      <td>052165615X</td>\n",
       "      <td>3</td>\n",
       "    </tr>\n",
       "    <tr>\n",
       "      <th>4</th>\n",
       "      <td>276729</td>\n",
       "      <td>0521795028</td>\n",
       "      <td>6</td>\n",
       "    </tr>\n",
       "  </tbody>\n",
       "</table>\n",
       "</div>"
      ],
      "text/plain": [
       "   User-ID        ISBN  Book-Rating\n",
       "0  276725   034545104X  0          \n",
       "1  276726   0155061224  5          \n",
       "2  276727   0446520802  0          \n",
       "3  276729   052165615X  3          \n",
       "4  276729   0521795028  6          "
      ]
     },
     "execution_count": 32,
     "metadata": {},
     "output_type": "execute_result"
    }
   ],
   "source": [
    "print(\"Columns: \", list(ratings.columns))\n",
    "ratings.head()"
   ]
  },
  {
   "cell_type": "code",
   "execution_count": 33,
   "metadata": {
    "colab": {
     "base_uri": "https://localhost:8080/"
    },
    "executionInfo": {
     "elapsed": 17,
     "status": "ok",
     "timestamp": 1623912109398,
     "user": {
      "displayName": "Ashima IIITD",
      "photoUrl": "https://lh3.googleusercontent.com/a-/AOh14Gg51iTXizYDNTZkEdwmQ5GkwRQ8vp_9KTB8UVlC=s64",
      "userId": "02694856405090268186"
     },
     "user_tz": -330
    },
    "id": "CiA4xbv0HbPc",
    "outputId": "c09d339d-e697-4f9f-ade8-975fa5edd787"
   },
   "outputs": [
    {
     "data": {
      "text/plain": [
       "User-ID        0\n",
       "ISBN           0\n",
       "Book-Rating    0\n",
       "dtype: int64"
      ]
     },
     "execution_count": 33,
     "metadata": {},
     "output_type": "execute_result"
    }
   ],
   "source": [
    " \n",
    "ratings.isnull().sum() "
   ]
  },
  {
   "cell_type": "code",
   "execution_count": 34,
   "metadata": {
    "colab": {
     "base_uri": "https://localhost:8080/"
    },
    "executionInfo": {
     "elapsed": 14,
     "status": "ok",
     "timestamp": 1623912109399,
     "user": {
      "displayName": "Ashima IIITD",
      "photoUrl": "https://lh3.googleusercontent.com/a-/AOh14Gg51iTXizYDNTZkEdwmQ5GkwRQ8vp_9KTB8UVlC=s64",
      "userId": "02694856405090268186"
     },
     "user_tz": -330
    },
    "id": "nb-2TTxhKTuO",
    "outputId": "59c920a2-ed79-4be6-e3b1-90ea046d090a"
   },
   "outputs": [
    {
     "name": "stdout",
     "output_type": "stream",
     "text": [
      "True\n"
     ]
    }
   ],
   "source": [
    " \n",
    "print(is_numeric_dtype(ratings['Book-Rating']))"
   ]
  },
  {
   "cell_type": "code",
   "execution_count": 35,
   "metadata": {
    "colab": {
     "base_uri": "https://localhost:8080/"
    },
    "executionInfo": {
     "elapsed": 11,
     "status": "ok",
     "timestamp": 1623912109399,
     "user": {
      "displayName": "Ashima IIITD",
      "photoUrl": "https://lh3.googleusercontent.com/a-/AOh14Gg51iTXizYDNTZkEdwmQ5GkwRQ8vp_9KTB8UVlC=s64",
      "userId": "02694856405090268186"
     },
     "user_tz": -330
    },
    "id": "nn0PjIPnKT0C",
    "outputId": "4ebf160c-03e2-4ccc-8a40-62dcb7e97da2"
   },
   "outputs": [
    {
     "name": "stdout",
     "output_type": "stream",
     "text": [
      "True\n"
     ]
    }
   ],
   "source": [
    " print(is_numeric_dtype(ratings['User-ID']))"
   ]
  },
  {
   "cell_type": "code",
   "execution_count": 36,
   "metadata": {
    "colab": {
     "base_uri": "https://localhost:8080/"
    },
    "executionInfo": {
     "elapsed": 1303,
     "status": "ok",
     "timestamp": 1623912110694,
     "user": {
      "displayName": "Ashima IIITD",
      "photoUrl": "https://lh3.googleusercontent.com/a-/AOh14Gg51iTXizYDNTZkEdwmQ5GkwRQ8vp_9KTB8UVlC=s64",
      "userId": "02694856405090268186"
     },
     "user_tz": -330
    },
    "id": "j_QhbeNCKT30",
    "outputId": "f832463f-7c36-487f-ac87-bf34dd7a15b4"
   },
   "outputs": [
    {
     "name": "stdout",
     "output_type": "stream",
     "text": [
      "False\n"
     ]
    }
   ],
   "source": [
    " \n",
    "flag = 0\n",
    "k =[]\n",
    "reg = \"[^A-Za-z0-9]\"\n",
    "\n",
    "for x in ratings['ISBN']:\n",
    "    z = re.search(reg,x)    \n",
    "    if z:\n",
    "        flag = 1\n",
    "\n",
    "if flag == 1:\n",
    "    print(\"False\")\n",
    "else:\n",
    "    print(\"True\")"
   ]
  },
  {
   "cell_type": "code",
   "execution_count": 37,
   "metadata": {
    "executionInfo": {
     "elapsed": 94722,
     "status": "ok",
     "timestamp": 1623912205414,
     "user": {
      "displayName": "Ashima IIITD",
      "photoUrl": "https://lh3.googleusercontent.com/a-/AOh14Gg51iTXizYDNTZkEdwmQ5GkwRQ8vp_9KTB8UVlC=s64",
      "userId": "02694856405090268186"
     },
     "user_tz": -330
    },
    "id": "PoUNkGMqKUJs"
   },
   "outputs": [],
   "source": [
    " \n",
    "bookISBN = books['ISBN'].tolist() \n",
    "reg = \"[^A-Za-z0-9]\" \n",
    "for index, row_Value in ratings.iterrows():\n",
    "    z = re.search(reg, row_Value['ISBN'])    \n",
    "    if z:\n",
    "        f = re.sub(reg,\"\",row_Value['ISBN'])\n",
    "        if f in bookISBN:\n",
    "            ratings.at[index , 'ISBN'] = f"
   ]
  },
  {
   "cell_type": "code",
   "execution_count": 38,
   "metadata": {
    "executionInfo": {
     "elapsed": 656,
     "status": "ok",
     "timestamp": 1623912206058,
     "user": {
      "displayName": "Ashima IIITD",
      "photoUrl": "https://lh3.googleusercontent.com/a-/AOh14Gg51iTXizYDNTZkEdwmQ5GkwRQ8vp_9KTB8UVlC=s64",
      "userId": "02694856405090268186"
     },
     "user_tz": -330
    },
    "id": "EmODrJZISSNr"
   },
   "outputs": [],
   "source": [
    " \n",
    "ratings['ISBN'] = ratings['ISBN'].str.upper()"
   ]
  },
  {
   "cell_type": "code",
   "execution_count": 39,
   "metadata": {
    "executionInfo": {
     "elapsed": 9,
     "status": "ok",
     "timestamp": 1623912206059,
     "user": {
      "displayName": "Ashima IIITD",
      "photoUrl": "https://lh3.googleusercontent.com/a-/AOh14Gg51iTXizYDNTZkEdwmQ5GkwRQ8vp_9KTB8UVlC=s64",
      "userId": "02694856405090268186"
     },
     "user_tz": -330
    },
    "id": "vv7sSuxmpTIi"
   },
   "outputs": [],
   "source": [
    " \n",
    "ratings.drop_duplicates(keep='last', inplace=True)\n",
    "ratings.reset_index(drop=True, inplace=True)"
   ]
  },
  {
   "cell_type": "code",
   "execution_count": 40,
   "metadata": {
    "colab": {
     "base_uri": "https://localhost:8080/"
    },
    "executionInfo": {
     "elapsed": 382,
     "status": "ok",
     "timestamp": 1623912206432,
     "user": {
      "displayName": "Ashima IIITD",
      "photoUrl": "https://lh3.googleusercontent.com/a-/AOh14Gg51iTXizYDNTZkEdwmQ5GkwRQ8vp_9KTB8UVlC=s64",
      "userId": "02694856405090268186"
     },
     "user_tz": -330
    },
    "id": "3OxDoF9iPhLA",
    "outputId": "4abf566e-4fd2-4ef0-9339-56512ec65581"
   },
   "outputs": [
    {
     "name": "stdout",
     "output_type": "stream",
     "text": [
      "<class 'pandas.core.frame.DataFrame'>\n",
      "RangeIndex: 1149776 entries, 0 to 1149775\n",
      "Data columns (total 3 columns):\n",
      " #   Column       Non-Null Count    Dtype \n",
      "---  ------       --------------    ----- \n",
      " 0   User-ID      1149776 non-null  int64 \n",
      " 1   ISBN         1149776 non-null  object\n",
      " 2   Book-Rating  1149776 non-null  int64 \n",
      "dtypes: int64(2), object(1)\n",
      "memory usage: 26.3+ MB\n"
     ]
    }
   ],
   "source": [
    "ratings.info()"
   ]
  },
  {
   "cell_type": "code",
   "execution_count": 41,
   "metadata": {
    "colab": {
     "base_uri": "https://localhost:8080/",
     "height": 204
    },
    "executionInfo": {
     "elapsed": 8,
     "status": "ok",
     "timestamp": 1623912206433,
     "user": {
      "displayName": "Ashima IIITD",
      "photoUrl": "https://lh3.googleusercontent.com/a-/AOh14Gg51iTXizYDNTZkEdwmQ5GkwRQ8vp_9KTB8UVlC=s64",
      "userId": "02694856405090268186"
     },
     "user_tz": -330
    },
    "id": "SqQR1C4KLmCn",
    "outputId": "b178e614-9a11-4dc1-f06a-6de285297008"
   },
   "outputs": [
    {
     "data": {
      "text/html": [
       "<div>\n",
       "<style scoped>\n",
       "    .dataframe tbody tr th:only-of-type {\n",
       "        vertical-align: middle;\n",
       "    }\n",
       "\n",
       "    .dataframe tbody tr th {\n",
       "        vertical-align: top;\n",
       "    }\n",
       "\n",
       "    .dataframe thead th {\n",
       "        text-align: right;\n",
       "    }\n",
       "</style>\n",
       "<table border=\"1\" class=\"dataframe\">\n",
       "  <thead>\n",
       "    <tr style=\"text-align: right;\">\n",
       "      <th></th>\n",
       "      <th>User-ID</th>\n",
       "      <th>ISBN</th>\n",
       "      <th>Book-Rating</th>\n",
       "    </tr>\n",
       "  </thead>\n",
       "  <tbody>\n",
       "    <tr>\n",
       "      <th>0</th>\n",
       "      <td>276725</td>\n",
       "      <td>034545104X</td>\n",
       "      <td>0</td>\n",
       "    </tr>\n",
       "    <tr>\n",
       "      <th>1</th>\n",
       "      <td>276726</td>\n",
       "      <td>0155061224</td>\n",
       "      <td>5</td>\n",
       "    </tr>\n",
       "    <tr>\n",
       "      <th>2</th>\n",
       "      <td>276727</td>\n",
       "      <td>0446520802</td>\n",
       "      <td>0</td>\n",
       "    </tr>\n",
       "    <tr>\n",
       "      <th>3</th>\n",
       "      <td>276729</td>\n",
       "      <td>052165615X</td>\n",
       "      <td>3</td>\n",
       "    </tr>\n",
       "    <tr>\n",
       "      <th>4</th>\n",
       "      <td>276729</td>\n",
       "      <td>0521795028</td>\n",
       "      <td>6</td>\n",
       "    </tr>\n",
       "  </tbody>\n",
       "</table>\n",
       "</div>"
      ],
      "text/plain": [
       "   User-ID        ISBN  Book-Rating\n",
       "0  276725   034545104X  0          \n",
       "1  276726   0155061224  5          \n",
       "2  276727   0446520802  0          \n",
       "3  276729   052165615X  3          \n",
       "4  276729   0521795028  6          "
      ]
     },
     "execution_count": 41,
     "metadata": {},
     "output_type": "execute_result"
    }
   ],
   "source": [
    "ratings.head()"
   ]
  },
  {
   "cell_type": "code",
   "execution_count": 42,
   "metadata": {
    "colab": {
     "base_uri": "https://localhost:8080/"
    },
    "executionInfo": {
     "elapsed": 2308,
     "status": "ok",
     "timestamp": 1623912208737,
     "user": {
      "displayName": "Ashima IIITD",
      "photoUrl": "https://lh3.googleusercontent.com/a-/AOh14Gg51iTXizYDNTZkEdwmQ5GkwRQ8vp_9KTB8UVlC=s64",
      "userId": "02694856405090268186"
     },
     "user_tz": -330
    },
    "id": "Qe35QgDxWetG",
    "outputId": "ee8ff3e9-1401-43bc-d56f-1068762b2e2e"
   },
   "outputs": [
    {
     "name": "stdout",
     "output_type": "stream",
     "text": [
      "<class 'pandas.core.frame.DataFrame'>\n",
      "Int64Index: 1031609 entries, 0 to 1031608\n",
      "Data columns (total 11 columns):\n",
      " #   Column               Non-Null Count    Dtype \n",
      "---  ------               --------------    ----- \n",
      " 0   ISBN                 1031609 non-null  object\n",
      " 1   Book-Title           1031609 non-null  object\n",
      " 2   Book-Author          1031609 non-null  object\n",
      " 3   Year-Of-Publication  1031609 non-null  int32 \n",
      " 4   Publisher            1031609 non-null  object\n",
      " 5   User-ID              1031609 non-null  int64 \n",
      " 6   Book-Rating          1031609 non-null  int64 \n",
      " 7   Age                  1031609 non-null  int32 \n",
      " 8   City                 1031609 non-null  object\n",
      " 9   State                1031609 non-null  object\n",
      " 10  Country              1031609 non-null  object\n",
      "dtypes: int32(2), int64(2), object(7)\n",
      "memory usage: 86.6+ MB\n"
     ]
    }
   ],
   "source": [
    "dataset = pd.merge(books, ratings, on='ISBN', how='inner')\n",
    "dataset = pd.merge(dataset, users, on='User-ID', how='inner')\n",
    "dataset.info()"
   ]
  },
  {
   "cell_type": "code",
   "execution_count": 43,
   "metadata": {
    "colab": {
     "base_uri": "https://localhost:8080/"
    },
    "executionInfo": {
     "elapsed": 6,
     "status": "ok",
     "timestamp": 1623912208737,
     "user": {
      "displayName": "Ashima IIITD",
      "photoUrl": "https://lh3.googleusercontent.com/a-/AOh14Gg51iTXizYDNTZkEdwmQ5GkwRQ8vp_9KTB8UVlC=s64",
      "userId": "02694856405090268186"
     },
     "user_tz": -330
    },
    "id": "s8nZ7OutWT3Z",
    "outputId": "7a3591fa-8363-4273-ec0b-36193dbbd5b9"
   },
   "outputs": [
    {
     "data": {
      "text/plain": [
       "(384074, 11)"
      ]
     },
     "execution_count": 43,
     "metadata": {},
     "output_type": "execute_result"
    }
   ],
   "source": [
    "## Explicit Ratings Dataset\n",
    "dataset1 = dataset[dataset['Book-Rating'] != 0]\n",
    "dataset1 = dataset1.reset_index(drop = True)\n",
    "dataset1.shape"
   ]
  },
  {
   "cell_type": "code",
   "execution_count": 44,
   "metadata": {
    "colab": {
     "base_uri": "https://localhost:8080/"
    },
    "executionInfo": {
     "elapsed": 395,
     "status": "ok",
     "timestamp": 1623912209129,
     "user": {
      "displayName": "Ashima IIITD",
      "photoUrl": "https://lh3.googleusercontent.com/a-/AOh14Gg51iTXizYDNTZkEdwmQ5GkwRQ8vp_9KTB8UVlC=s64",
      "userId": "02694856405090268186"
     },
     "user_tz": -330
    },
    "id": "glsWrmCxWUAi",
    "outputId": "61a3c941-2528-4e12-a502-53948280ce7b"
   },
   "outputs": [
    {
     "data": {
      "text/plain": [
       "(647535, 11)"
      ]
     },
     "execution_count": 44,
     "metadata": {},
     "output_type": "execute_result"
    }
   ],
   "source": [
    "## Implicit Ratings Dataset\n",
    "dataset2 = dataset[dataset['Book-Rating'] == 0]\n",
    "dataset2 = dataset2.reset_index(drop = True)\n",
    "dataset2.shape"
   ]
  },
  {
   "cell_type": "code",
   "execution_count": 45,
   "metadata": {
    "colab": {
     "base_uri": "https://localhost:8080/",
     "height": 204
    },
    "executionInfo": {
     "elapsed": 7,
     "status": "ok",
     "timestamp": 1623912209130,
     "user": {
      "displayName": "Ashima IIITD",
      "photoUrl": "https://lh3.googleusercontent.com/a-/AOh14Gg51iTXizYDNTZkEdwmQ5GkwRQ8vp_9KTB8UVlC=s64",
      "userId": "02694856405090268186"
     },
     "user_tz": -330
    },
    "id": "youYQL9HMl7g",
    "outputId": "0998d608-49e7-4b22-c20d-a65b73ebf5cb"
   },
   "outputs": [
    {
     "data": {
      "text/html": [
       "<div>\n",
       "<style scoped>\n",
       "    .dataframe tbody tr th:only-of-type {\n",
       "        vertical-align: middle;\n",
       "    }\n",
       "\n",
       "    .dataframe tbody tr th {\n",
       "        vertical-align: top;\n",
       "    }\n",
       "\n",
       "    .dataframe thead th {\n",
       "        text-align: right;\n",
       "    }\n",
       "</style>\n",
       "<table border=\"1\" class=\"dataframe\">\n",
       "  <thead>\n",
       "    <tr style=\"text-align: right;\">\n",
       "      <th></th>\n",
       "      <th>ISBN</th>\n",
       "      <th>Book-Title</th>\n",
       "      <th>Book-Author</th>\n",
       "      <th>Year-Of-Publication</th>\n",
       "      <th>Publisher</th>\n",
       "      <th>User-ID</th>\n",
       "      <th>Book-Rating</th>\n",
       "      <th>Age</th>\n",
       "      <th>City</th>\n",
       "      <th>State</th>\n",
       "      <th>Country</th>\n",
       "    </tr>\n",
       "  </thead>\n",
       "  <tbody>\n",
       "    <tr>\n",
       "      <th>0</th>\n",
       "      <td>0002005018</td>\n",
       "      <td>Clara Callan</td>\n",
       "      <td>Richard Bruce Wright</td>\n",
       "      <td>2001</td>\n",
       "      <td>HarperFlamingo Canada</td>\n",
       "      <td>8</td>\n",
       "      <td>5</td>\n",
       "      <td>35</td>\n",
       "      <td>timmins</td>\n",
       "      <td>ontario</td>\n",
       "      <td>canada</td>\n",
       "    </tr>\n",
       "    <tr>\n",
       "      <th>1</th>\n",
       "      <td>074322678X</td>\n",
       "      <td>Where You'll Find Me: And Other Stories</td>\n",
       "      <td>Ann Beattie</td>\n",
       "      <td>2002</td>\n",
       "      <td>Scribner</td>\n",
       "      <td>8</td>\n",
       "      <td>5</td>\n",
       "      <td>35</td>\n",
       "      <td>timmins</td>\n",
       "      <td>ontario</td>\n",
       "      <td>canada</td>\n",
       "    </tr>\n",
       "    <tr>\n",
       "      <th>2</th>\n",
       "      <td>0887841740</td>\n",
       "      <td>The Middle Stories</td>\n",
       "      <td>Sheila Heti</td>\n",
       "      <td>2004</td>\n",
       "      <td>House of Anansi Press</td>\n",
       "      <td>8</td>\n",
       "      <td>5</td>\n",
       "      <td>35</td>\n",
       "      <td>timmins</td>\n",
       "      <td>ontario</td>\n",
       "      <td>canada</td>\n",
       "    </tr>\n",
       "    <tr>\n",
       "      <th>3</th>\n",
       "      <td>1552041778</td>\n",
       "      <td>Jane Doe</td>\n",
       "      <td>R. J. Kaiser</td>\n",
       "      <td>1999</td>\n",
       "      <td>Mira Books</td>\n",
       "      <td>8</td>\n",
       "      <td>5</td>\n",
       "      <td>35</td>\n",
       "      <td>timmins</td>\n",
       "      <td>ontario</td>\n",
       "      <td>canada</td>\n",
       "    </tr>\n",
       "    <tr>\n",
       "      <th>4</th>\n",
       "      <td>1567407781</td>\n",
       "      <td>The Witchfinder (Amos Walker Mystery Series)</td>\n",
       "      <td>Loren D. Estleman</td>\n",
       "      <td>1998</td>\n",
       "      <td>Brilliance Audio - Trade</td>\n",
       "      <td>8</td>\n",
       "      <td>6</td>\n",
       "      <td>35</td>\n",
       "      <td>timmins</td>\n",
       "      <td>ontario</td>\n",
       "      <td>canada</td>\n",
       "    </tr>\n",
       "  </tbody>\n",
       "</table>\n",
       "</div>"
      ],
      "text/plain": [
       "         ISBN                                    Book-Title  \\\n",
       "0  0002005018  Clara Callan                                   \n",
       "1  074322678X  Where You'll Find Me: And Other Stories        \n",
       "2  0887841740  The Middle Stories                             \n",
       "3  1552041778  Jane Doe                                       \n",
       "4  1567407781  The Witchfinder (Amos Walker Mystery Series)   \n",
       "\n",
       "            Book-Author  Year-Of-Publication                 Publisher  \\\n",
       "0  Richard Bruce Wright  2001                 HarperFlamingo Canada      \n",
       "1  Ann Beattie           2002                 Scribner                   \n",
       "2  Sheila Heti           2004                 House of Anansi Press      \n",
       "3  R. J. Kaiser          1999                 Mira Books                 \n",
       "4  Loren D. Estleman     1998                 Brilliance Audio - Trade   \n",
       "\n",
       "   User-ID  Book-Rating  Age     City    State Country  \n",
       "0  8        5            35   timmins  ontario  canada  \n",
       "1  8        5            35   timmins  ontario  canada  \n",
       "2  8        5            35   timmins  ontario  canada  \n",
       "3  8        5            35   timmins  ontario  canada  \n",
       "4  8        6            35   timmins  ontario  canada  "
      ]
     },
     "execution_count": 45,
     "metadata": {},
     "output_type": "execute_result"
    }
   ],
   "source": [
    "dataset1.head()"
   ]
  },
  {
   "cell_type": "code",
   "execution_count": 57,
   "metadata": {
    "colab": {
     "base_uri": "https://localhost:8080/"
    },
    "executionInfo": {
     "elapsed": 31614,
     "status": "ok",
     "timestamp": 1623912488976,
     "user": {
      "displayName": "Ashima IIITD",
      "photoUrl": "https://lh3.googleusercontent.com/a-/AOh14Gg51iTXizYDNTZkEdwmQ5GkwRQ8vp_9KTB8UVlC=s64",
      "userId": "02694856405090268186"
     },
     "user_tz": -330
    },
    "id": "XYOgNMcXxVWM",
    "outputId": "e061a0e6-4466-4668-f28a-7c2cc53dd77b"
   },
   "outputs": [
    {
     "name": "stdout",
     "output_type": "stream",
     "text": [
      "Enter a book name: Harry Potter and the Sorcerer's Stone (Harry Potter (Paperback))\n",
      "Enter number of books to recommend: 5\n"
     ]
    }
   ],
   "source": [
    "bookName = input(\"Enter a book name: \")\n",
    "number = int(input(\"Enter number of books to recommend: \"))"
   ]
  },
  {
   "cell_type": "markdown",
   "metadata": {
    "id": "4re4K27hZO1R"
   },
   "source": [
    "<h5><b> 1. Popularity Based (Top In whole collection)"
   ]
  },
  {
   "cell_type": "code",
   "execution_count": 58,
   "metadata": {
    "executionInfo": {
     "elapsed": 12,
     "status": "ok",
     "timestamp": 1623912488976,
     "user": {
      "displayName": "Ashima IIITD",
      "photoUrl": "https://lh3.googleusercontent.com/a-/AOh14Gg51iTXizYDNTZkEdwmQ5GkwRQ8vp_9KTB8UVlC=s64",
      "userId": "02694856405090268186"
     },
     "user_tz": -330
    },
    "id": "xxEj1Y-AQf-r"
   },
   "outputs": [],
   "source": [
    "def popularity_based(dataframe, n):\n",
    "    if n >= 1 and n <= len(dataframe):\n",
    "        data = pd.DataFrame(dataframe.groupby('ISBN')['Book-Rating'].count()).sort_values('Book-Rating', ascending=False).head(n)\n",
    "        result = pd.merge(data, books, on='ISBN', left_index = True)\n",
    "        return result\n",
    "    return \"Invalid number of books entered!!\""
   ]
  },
  {
   "cell_type": "code",
   "execution_count": 59,
   "metadata": {
    "colab": {
     "base_uri": "https://localhost:8080/",
     "height": 221
    },
    "executionInfo": {
     "elapsed": 681,
     "status": "ok",
     "timestamp": 1623912489646,
     "user": {
      "displayName": "Ashima IIITD",
      "photoUrl": "https://lh3.googleusercontent.com/a-/AOh14Gg51iTXizYDNTZkEdwmQ5GkwRQ8vp_9KTB8UVlC=s64",
      "userId": "02694856405090268186"
     },
     "user_tz": -330
    },
    "id": "eAqbJVdPQgIy",
    "outputId": "2b57c885-9256-4800-d152-cc7bfb2e731d"
   },
   "outputs": [
    {
     "name": "stdout",
     "output_type": "stream",
     "text": [
      "Top 5 Popular books are: \n"
     ]
    },
    {
     "data": {
      "text/html": [
       "<div>\n",
       "<style scoped>\n",
       "    .dataframe tbody tr th:only-of-type {\n",
       "        vertical-align: middle;\n",
       "    }\n",
       "\n",
       "    .dataframe tbody tr th {\n",
       "        vertical-align: top;\n",
       "    }\n",
       "\n",
       "    .dataframe thead th {\n",
       "        text-align: right;\n",
       "    }\n",
       "</style>\n",
       "<table border=\"1\" class=\"dataframe\">\n",
       "  <thead>\n",
       "    <tr style=\"text-align: right;\">\n",
       "      <th></th>\n",
       "      <th>ISBN</th>\n",
       "      <th>Book-Rating</th>\n",
       "      <th>Book-Title</th>\n",
       "      <th>Book-Author</th>\n",
       "      <th>Year-Of-Publication</th>\n",
       "      <th>Publisher</th>\n",
       "    </tr>\n",
       "  </thead>\n",
       "  <tbody>\n",
       "    <tr>\n",
       "      <th>401</th>\n",
       "      <td>0316666343</td>\n",
       "      <td>707</td>\n",
       "      <td>The Lovely Bones: A Novel</td>\n",
       "      <td>Alice Sebold</td>\n",
       "      <td>2002</td>\n",
       "      <td>Little, Brown</td>\n",
       "    </tr>\n",
       "    <tr>\n",
       "      <th>26</th>\n",
       "      <td>0971880107</td>\n",
       "      <td>581</td>\n",
       "      <td>Wild Animus</td>\n",
       "      <td>Rich Shapero</td>\n",
       "      <td>2004</td>\n",
       "      <td>Too Far</td>\n",
       "    </tr>\n",
       "    <tr>\n",
       "      <th>734</th>\n",
       "      <td>0385504209</td>\n",
       "      <td>488</td>\n",
       "      <td>The Da Vinci Code</td>\n",
       "      <td>Dan Brown</td>\n",
       "      <td>2003</td>\n",
       "      <td>Doubleday</td>\n",
       "    </tr>\n",
       "    <tr>\n",
       "      <th>513</th>\n",
       "      <td>0312195516</td>\n",
       "      <td>383</td>\n",
       "      <td>The Red Tent (Bestselling Backlist)</td>\n",
       "      <td>Anita Diamant</td>\n",
       "      <td>1998</td>\n",
       "      <td>Picador USA</td>\n",
       "    </tr>\n",
       "    <tr>\n",
       "      <th>1086</th>\n",
       "      <td>0060928336</td>\n",
       "      <td>320</td>\n",
       "      <td>Divine Secrets of the Ya-Ya Sisterhood: A Novel</td>\n",
       "      <td>Rebecca Wells</td>\n",
       "      <td>1997</td>\n",
       "      <td>Perennial</td>\n",
       "    </tr>\n",
       "  </tbody>\n",
       "</table>\n",
       "</div>"
      ],
      "text/plain": [
       "            ISBN  Book-Rating  \\\n",
       "401   0316666343  707           \n",
       "26    0971880107  581           \n",
       "734   0385504209  488           \n",
       "513   0312195516  383           \n",
       "1086  0060928336  320           \n",
       "\n",
       "                                           Book-Title    Book-Author  \\\n",
       "401   The Lovely Bones: A Novel                        Alice Sebold    \n",
       "26    Wild Animus                                      Rich Shapero    \n",
       "734   The Da Vinci Code                                Dan Brown       \n",
       "513   The Red Tent (Bestselling Backlist)              Anita Diamant   \n",
       "1086  Divine Secrets of the Ya-Ya Sisterhood: A Novel  Rebecca Wells   \n",
       "\n",
       "      Year-Of-Publication      Publisher  \n",
       "401   2002                 Little, Brown  \n",
       "26    2004                 Too Far        \n",
       "734   2003                 Doubleday      \n",
       "513   1998                 Picador USA    \n",
       "1086  1997                 Perennial      "
      ]
     },
     "execution_count": 59,
     "metadata": {},
     "output_type": "execute_result"
    }
   ],
   "source": [
    "print(\"Top\", number, \"Popular books are: \")\n",
    "popularity_based(dataset1, number)"
   ]
  },
  {
   "cell_type": "markdown",
   "metadata": {
    "id": "JTgBu6nRZmTQ"
   },
   "source": [
    "<h5><b>2. Popularity Based (Top In a given place)"
   ]
  },
  {
   "cell_type": "code",
   "execution_count": 60,
   "metadata": {
    "executionInfo": {
     "elapsed": 17,
     "status": "ok",
     "timestamp": 1623912489646,
     "user": {
      "displayName": "Ashima IIITD",
      "photoUrl": "https://lh3.googleusercontent.com/a-/AOh14Gg51iTXizYDNTZkEdwmQ5GkwRQ8vp_9KTB8UVlC=s64",
      "userId": "02694856405090268186"
     },
     "user_tz": -330
    },
    "id": "xsnuHjyAb1mk"
   },
   "outputs": [],
   "source": [
    "def search_unique_places(dataframe, place):\n",
    "    place = place.lower()\n",
    "\n",
    "    if place in list(dataframe['City'].unique()):\n",
    "        return dataframe[dataframe['City'] == place]\n",
    "    elif place in list(dataframe['State'].unique()):\n",
    "        return dataframe[dataframe['State'] == place]\n",
    "    elif place in list(dataframe['Country'].unique()):\n",
    "        return dataframe[dataframe['Country'] == place]\n",
    "    else:\n",
    "        return \"Invalid Entry\""
   ]
  },
  {
   "cell_type": "code",
   "execution_count": 61,
   "metadata": {
    "colab": {
     "base_uri": "https://localhost:8080/",
     "height": 221
    },
    "executionInfo": {
     "elapsed": 3986,
     "status": "ok",
     "timestamp": 1623912493626,
     "user": {
      "displayName": "Ashima IIITD",
      "photoUrl": "https://lh3.googleusercontent.com/a-/AOh14Gg51iTXizYDNTZkEdwmQ5GkwRQ8vp_9KTB8UVlC=s64",
      "userId": "02694856405090268186"
     },
     "user_tz": -330
    },
    "id": "6BE_bSaSddwP",
    "outputId": "0eda99e3-c774-42fb-9a98-3dca8b6336d9"
   },
   "outputs": [
    {
     "name": "stdout",
     "output_type": "stream",
     "text": [
      "Enter the name of place: India\n"
     ]
    },
    {
     "data": {
      "text/html": [
       "<div>\n",
       "<style scoped>\n",
       "    .dataframe tbody tr th:only-of-type {\n",
       "        vertical-align: middle;\n",
       "    }\n",
       "\n",
       "    .dataframe tbody tr th {\n",
       "        vertical-align: top;\n",
       "    }\n",
       "\n",
       "    .dataframe thead th {\n",
       "        text-align: right;\n",
       "    }\n",
       "</style>\n",
       "<table border=\"1\" class=\"dataframe\">\n",
       "  <thead>\n",
       "    <tr style=\"text-align: right;\">\n",
       "      <th></th>\n",
       "      <th>ISBN</th>\n",
       "      <th>Book-Rating</th>\n",
       "      <th>Book-Title</th>\n",
       "      <th>Book-Author</th>\n",
       "      <th>Year-Of-Publication</th>\n",
       "      <th>Publisher</th>\n",
       "    </tr>\n",
       "  </thead>\n",
       "  <tbody>\n",
       "    <tr>\n",
       "      <th>26</th>\n",
       "      <td>0971880107</td>\n",
       "      <td>3</td>\n",
       "      <td>Wild Animus</td>\n",
       "      <td>Rich Shapero</td>\n",
       "      <td>2004</td>\n",
       "      <td>Too Far</td>\n",
       "    </tr>\n",
       "    <tr>\n",
       "      <th>166</th>\n",
       "      <td>0671047612</td>\n",
       "      <td>2</td>\n",
       "      <td>Skin And Bones</td>\n",
       "      <td>Franklin W. Dixon</td>\n",
       "      <td>2000</td>\n",
       "      <td>Aladdin</td>\n",
       "    </tr>\n",
       "    <tr>\n",
       "      <th>164</th>\n",
       "      <td>0486284735</td>\n",
       "      <td>2</td>\n",
       "      <td>Pride and Prejudice (Dover Thrift Editions)</td>\n",
       "      <td>Jane Austen</td>\n",
       "      <td>1995</td>\n",
       "      <td>Dover Publications</td>\n",
       "    </tr>\n",
       "    <tr>\n",
       "      <th>9596</th>\n",
       "      <td>8171670407</td>\n",
       "      <td>2</td>\n",
       "      <td>Inscrutable Americans</td>\n",
       "      <td>Mathur Anurag</td>\n",
       "      <td>1996</td>\n",
       "      <td>South Asia Books</td>\n",
       "    </tr>\n",
       "    <tr>\n",
       "      <th>72379</th>\n",
       "      <td>0006944035</td>\n",
       "      <td>1</td>\n",
       "      <td>Secret Island / Secret Mountain (Two-in-ones)</td>\n",
       "      <td>Enid Blyton</td>\n",
       "      <td>1994</td>\n",
       "      <td>HarperCollins Publishers</td>\n",
       "    </tr>\n",
       "  </tbody>\n",
       "</table>\n",
       "</div>"
      ],
      "text/plain": [
       "             ISBN  Book-Rating                                     Book-Title  \\\n",
       "26     0971880107  3            Wild Animus                                     \n",
       "166    0671047612  2            Skin And Bones                                  \n",
       "164    0486284735  2            Pride and Prejudice (Dover Thrift Editions)     \n",
       "9596   8171670407  2            Inscrutable Americans                           \n",
       "72379  0006944035  1            Secret Island / Secret Mountain (Two-in-ones)   \n",
       "\n",
       "             Book-Author  Year-Of-Publication                 Publisher  \n",
       "26     Rich Shapero       2004                 Too Far                   \n",
       "166    Franklin W. Dixon  2000                 Aladdin                   \n",
       "164    Jane Austen        1995                 Dover Publications        \n",
       "9596   Mathur Anurag      1996                 South Asia Books          \n",
       "72379  Enid Blyton        1994                 HarperCollins Publishers  "
      ]
     },
     "execution_count": 61,
     "metadata": {},
     "output_type": "execute_result"
    }
   ],
   "source": [
    "place = input(\"Enter the name of place: \")\n",
    "data = search_unique_places(dataset1, place)\n",
    "\n",
    "if isinstance(data, pd.DataFrame):\n",
    "    data = popularity_based(data, number)\n",
    "\n",
    "data"
   ]
  },
  {
   "cell_type": "markdown",
   "metadata": {
    "id": "tXrOOhLs_YAC"
   },
   "source": [
    "<b><h5>3. Books by same author, publisher of given book name"
   ]
  },
  {
   "cell_type": "code",
   "execution_count": 62,
   "metadata": {
    "executionInfo": {
     "elapsed": 15,
     "status": "ok",
     "timestamp": 1623912493626,
     "user": {
      "displayName": "Ashima IIITD",
      "photoUrl": "https://lh3.googleusercontent.com/a-/AOh14Gg51iTXizYDNTZkEdwmQ5GkwRQ8vp_9KTB8UVlC=s64",
      "userId": "02694856405090268186"
     },
     "user_tz": -330
    },
    "id": "vhKTvXM2BNzN"
   },
   "outputs": [],
   "source": [
    "def printBook(k, n):\n",
    "    z = k['Book-Title'].unique()\n",
    "    for x in range(len(z)):\n",
    "        print(z[x])\n",
    "        if x >= n-1:\n",
    "            break"
   ]
  },
  {
   "cell_type": "code",
   "execution_count": 63,
   "metadata": {
    "executionInfo": {
     "elapsed": 15,
     "status": "ok",
     "timestamp": 1623912493627,
     "user": {
      "displayName": "Ashima IIITD",
      "photoUrl": "https://lh3.googleusercontent.com/a-/AOh14Gg51iTXizYDNTZkEdwmQ5GkwRQ8vp_9KTB8UVlC=s64",
      "userId": "02694856405090268186"
     },
     "user_tz": -330
    },
    "id": "NvbjfVJYAGIO"
   },
   "outputs": [],
   "source": [
    "def get_books(dataframe, name, n):\n",
    "    print(\"\\nBooks by same Author:\\n\")\n",
    "    au = dataframe['Book-Author'].unique()\n",
    "\n",
    "    data = dataset1[dataset1['Book-Title'] != name]\n",
    "\n",
    "    if au[0] in list(data['Book-Author'].unique()):\n",
    "        k2 = data[data['Book-Author'] == au[0]]\n",
    "    k2 = k2.sort_values(by=['Book-Rating'])\n",
    "    printBook(k2, n)\n",
    "\n",
    "    print(\"\\n\\nBooks by same Publisher:\\n\")\n",
    "    au = dataframe['Publisher'].unique()\n",
    "\n",
    "    if au[0] in list(data['Publisher'].unique()):\n",
    "        k2 = pd.DataFrame(data[data['Publisher'] == au[0]])\n",
    "    k2=k2.sort_values(by=['Book-Rating']) \n",
    "    printBook(k2, n)"
   ]
  },
  {
   "cell_type": "code",
   "execution_count": 64,
   "metadata": {
    "colab": {
     "base_uri": "https://localhost:8080/"
    },
    "executionInfo": {
     "elapsed": 884,
     "status": "ok",
     "timestamp": 1623912494496,
     "user": {
      "displayName": "Ashima IIITD",
      "photoUrl": "https://lh3.googleusercontent.com/a-/AOh14Gg51iTXizYDNTZkEdwmQ5GkwRQ8vp_9KTB8UVlC=s64",
      "userId": "02694856405090268186"
     },
     "user_tz": -330
    },
    "id": "iF_ufzzTdeAr",
    "outputId": "c7ea0bc8-3f6c-4962-b70c-1cec5c806a80"
   },
   "outputs": [
    {
     "name": "stdout",
     "output_type": "stream",
     "text": [
      "\n",
      "Books by same Author:\n",
      "\n",
      "Harry Potter and the Goblet of Fire (Book 4)\n",
      "Harry Potter and the Order of the Phoenix (Book 5)\n",
      "Harry Potter y el cÃ¡liz de fuego\n",
      "Harry Potter and the Chamber of Secrets (Book 2)\n",
      "Harry Potter and the Sorcerer's Stone (Book 1)\n",
      "\n",
      "\n",
      "Books by same Publisher:\n",
      "\n",
      "The Seeing Stone\n",
      "The Slightly True Story of Cedar B. Hartley: Who Planned to Live an Unusual Life\n",
      "Harry Potter and the Chamber of Secrets (Harry Potter)\n",
      "The Story of the Seagull and the Cat Who Taught Her To Fly\n",
      "Book! Book! Book!\n"
     ]
    }
   ],
   "source": [
    "if bookName in list(dataset1['Book-Title'].unique()):\n",
    "    d = dataset1[dataset1['Book-Title'] == bookName]\n",
    "    get_books(d, bookName, number)\n",
    "else:\n",
    "    print(\"Invalid Book Name!!\")"
   ]
  },
  {
   "cell_type": "markdown",
   "metadata": {
    "id": "W6m47CPTQ9IT"
   },
   "source": [
    "<h5><b>4. Books popular Yearly"
   ]
  },
  {
   "cell_type": "code",
   "execution_count": 65,
   "metadata": {
    "colab": {
     "base_uri": "https://localhost:8080/",
     "height": 1000
    },
    "executionInfo": {
     "elapsed": 12713,
     "status": "ok",
     "timestamp": 1623912507206,
     "user": {
      "displayName": "Ashima IIITD",
      "photoUrl": "https://lh3.googleusercontent.com/a-/AOh14Gg51iTXizYDNTZkEdwmQ5GkwRQ8vp_9KTB8UVlC=s64",
      "userId": "02694856405090268186"
     },
     "user_tz": -330
    },
    "id": "zSXb3OHSV3sq",
    "outputId": "4abc18e3-48dd-4cdc-d892-ddcea7b03672",
    "scrolled": false
   },
   "outputs": [
    {
     "data": {
      "text/html": [
       "<div>\n",
       "<style scoped>\n",
       "    .dataframe tbody tr th:only-of-type {\n",
       "        vertical-align: middle;\n",
       "    }\n",
       "\n",
       "    .dataframe tbody tr th {\n",
       "        vertical-align: top;\n",
       "    }\n",
       "\n",
       "    .dataframe thead th {\n",
       "        text-align: right;\n",
       "    }\n",
       "</style>\n",
       "<table border=\"1\" class=\"dataframe\">\n",
       "  <thead>\n",
       "    <tr style=\"text-align: right;\">\n",
       "      <th></th>\n",
       "      <th>ISBN</th>\n",
       "      <th>Book-Title</th>\n",
       "      <th>Book-Author</th>\n",
       "      <th>Year-Of-Publication</th>\n",
       "      <th>Publisher</th>\n",
       "    </tr>\n",
       "  </thead>\n",
       "  <tbody>\n",
       "    <tr>\n",
       "      <th>253437</th>\n",
       "      <td>964442011X</td>\n",
       "      <td>Tasht-i khun</td>\n",
       "      <td>IsmaÂ°il Fasih</td>\n",
       "      <td>1376</td>\n",
       "      <td>Nashr-i Alburz</td>\n",
       "    </tr>\n",
       "    <tr>\n",
       "      <th>227222</th>\n",
       "      <td>9643112136</td>\n",
       "      <td>Dalan-i bihisht (Dastan-i Irani)</td>\n",
       "      <td>Nazi Safavi</td>\n",
       "      <td>1378</td>\n",
       "      <td>Intisharat-i Quqnus</td>\n",
       "    </tr>\n",
       "    <tr>\n",
       "      <th>171529</th>\n",
       "      <td>0781228956</td>\n",
       "      <td>Complete Works 10 Volumes [2,6,7,8,9] (Notable American Authors)</td>\n",
       "      <td>Benjamin Franklin</td>\n",
       "      <td>1806</td>\n",
       "      <td>Reprint Services Corp</td>\n",
       "    </tr>\n",
       "    <tr>\n",
       "      <th>211547</th>\n",
       "      <td>1551103982</td>\n",
       "      <td>The Cycling Adventures of Coconut Head: A North American Odyssey</td>\n",
       "      <td>Ted Schredd</td>\n",
       "      <td>1900</td>\n",
       "      <td>Graphic Arts Center Pub Co</td>\n",
       "    </tr>\n",
       "    <tr>\n",
       "      <th>262204</th>\n",
       "      <td>0671397214</td>\n",
       "      <td>JOY OF MUSIC     P</td>\n",
       "      <td>Leonard Bernstein</td>\n",
       "      <td>1901</td>\n",
       "      <td>Fireside</td>\n",
       "    </tr>\n",
       "    <tr>\n",
       "      <th>102242</th>\n",
       "      <td>0373226888</td>\n",
       "      <td>Tommy's Mom</td>\n",
       "      <td>Linda O. Johnston</td>\n",
       "      <td>1902</td>\n",
       "      <td>Harlequin</td>\n",
       "    </tr>\n",
       "    <tr>\n",
       "      <th>45599</th>\n",
       "      <td>038528120X</td>\n",
       "      <td>CATCH 22</td>\n",
       "      <td>JOSEPH HELLER</td>\n",
       "      <td>1904</td>\n",
       "      <td>Delta</td>\n",
       "    </tr>\n",
       "    <tr>\n",
       "      <th>170683</th>\n",
       "      <td>0404089119</td>\n",
       "      <td>Charlotte Bronte and Her Sisters</td>\n",
       "      <td>Clement K. Shorter</td>\n",
       "      <td>1906</td>\n",
       "      <td>Ams Pr</td>\n",
       "    </tr>\n",
       "    <tr>\n",
       "      <th>159472</th>\n",
       "      <td>0911662251</td>\n",
       "      <td>Kybalion: A Study of the Hermetic Philosophy of Ancient Egypt and Greece</td>\n",
       "      <td>Three Initiates</td>\n",
       "      <td>1908</td>\n",
       "      <td>Yoga Publication Society</td>\n",
       "    </tr>\n",
       "    <tr>\n",
       "      <th>191891</th>\n",
       "      <td>0892760508</td>\n",
       "      <td>New Birth</td>\n",
       "      <td>Kenneth Hagin</td>\n",
       "      <td>1911</td>\n",
       "      <td>Faith Library Publications</td>\n",
       "    </tr>\n",
       "    <tr>\n",
       "      <th>8369</th>\n",
       "      <td>0684717603</td>\n",
       "      <td>The GREAT GATSBY (Scribner Classic)</td>\n",
       "      <td>F. Scott Fritzgerald</td>\n",
       "      <td>1920</td>\n",
       "      <td>Scribner Paper Fiction</td>\n",
       "    </tr>\n",
       "    <tr>\n",
       "      <th>60245</th>\n",
       "      <td>0440745454</td>\n",
       "      <td>HOW TO EAT FRIED WORMS</td>\n",
       "      <td>THOMAS ROCKWELL</td>\n",
       "      <td>1923</td>\n",
       "      <td>Yearling</td>\n",
       "    </tr>\n",
       "    <tr>\n",
       "      <th>198308</th>\n",
       "      <td>0486600815</td>\n",
       "      <td>Principle of Relativity (Dover Books on Physics)</td>\n",
       "      <td>Albert Einstein</td>\n",
       "      <td>1924</td>\n",
       "      <td>Dover Publications</td>\n",
       "    </tr>\n",
       "    <tr>\n",
       "      <th>120296</th>\n",
       "      <td>0023381205</td>\n",
       "      <td>Great Gatsby, The</td>\n",
       "      <td>F. Scott Fitzgerald</td>\n",
       "      <td>1925</td>\n",
       "      <td>Prentice Hall</td>\n",
       "    </tr>\n",
       "    <tr>\n",
       "      <th>34910</th>\n",
       "      <td>0684718081</td>\n",
       "      <td>The Sun Also Rises</td>\n",
       "      <td>Ernest Hemingway</td>\n",
       "      <td>1926</td>\n",
       "      <td>Scribner Book Company</td>\n",
       "    </tr>\n",
       "    <tr>\n",
       "      <th>62792</th>\n",
       "      <td>0448089033</td>\n",
       "      <td>The Secret of the Old Mill (The Hardy Boys Mystery Stories, Book 3)</td>\n",
       "      <td>Franklin W. Dixon</td>\n",
       "      <td>1927</td>\n",
       "      <td>Grosset &amp;amp; Dunlap</td>\n",
       "    </tr>\n",
       "    <tr>\n",
       "      <th>182072</th>\n",
       "      <td>9997520858</td>\n",
       "      <td>Beau Ideal</td>\n",
       "      <td>Percival C. Wren</td>\n",
       "      <td>1928</td>\n",
       "      <td>Stokes Pub Co</td>\n",
       "    </tr>\n",
       "    <tr>\n",
       "      <th>54024</th>\n",
       "      <td>0684717972</td>\n",
       "      <td>Farewell to Arms</td>\n",
       "      <td>Ernest Hemingway</td>\n",
       "      <td>1929</td>\n",
       "      <td>Charles Scribner's Sons</td>\n",
       "    </tr>\n",
       "    <tr>\n",
       "      <th>11326</th>\n",
       "      <td>0448095017</td>\n",
       "      <td>The Secret of the Old Clock (Nancy Drew Mystery Stories, No 1)</td>\n",
       "      <td>Carolyn Keene</td>\n",
       "      <td>1930</td>\n",
       "      <td>Grosset &amp;amp; Dunlap</td>\n",
       "    </tr>\n",
       "    <tr>\n",
       "      <th>167762</th>\n",
       "      <td>074752694X</td>\n",
       "      <td>Bloomsbury Good Reading Guide</td>\n",
       "      <td>Kenneth McLeish</td>\n",
       "      <td>1931</td>\n",
       "      <td>Trafalgar Square Publishing</td>\n",
       "    </tr>\n",
       "    <tr>\n",
       "      <th>51668</th>\n",
       "      <td>0448095076</td>\n",
       "      <td>The Clue in the Diary (Nancy Drew Mystery Stories Number 7)</td>\n",
       "      <td>Carolyn Keene</td>\n",
       "      <td>1932</td>\n",
       "      <td>Imagination Studio</td>\n",
       "    </tr>\n",
       "    <tr>\n",
       "      <th>171066</th>\n",
       "      <td>0804617279</td>\n",
       "      <td>Legends of Angria,</td>\n",
       "      <td>Charlotte Bronte</td>\n",
       "      <td>1933</td>\n",
       "      <td>Gateway/Associated Faculty Pr</td>\n",
       "    </tr>\n",
       "    <tr>\n",
       "      <th>80855</th>\n",
       "      <td>0961505109</td>\n",
       "      <td>Narrow Land: Folk Chronicles of Old Cape Cod (Chatham Historical Society)</td>\n",
       "      <td>Elizabeth Reynard</td>\n",
       "      <td>1934</td>\n",
       "      <td>Parnassus Press</td>\n",
       "    </tr>\n",
       "    <tr>\n",
       "      <th>186151</th>\n",
       "      <td>0882436600</td>\n",
       "      <td>Through the Bible Book by Book: Genesis to Esthe/Part 1 (Through the Bible Book by Book)</td>\n",
       "      <td>Myer Pearlman</td>\n",
       "      <td>1935</td>\n",
       "      <td>Gospel Publishing House</td>\n",
       "    </tr>\n",
       "    <tr>\n",
       "      <th>11012</th>\n",
       "      <td>068483068X</td>\n",
       "      <td>Gone With the Wind</td>\n",
       "      <td>Margaret Mitchell</td>\n",
       "      <td>1936</td>\n",
       "      <td>Scribner</td>\n",
       "    </tr>\n",
       "    <tr>\n",
       "      <th>102614</th>\n",
       "      <td>0802812201</td>\n",
       "      <td>Descent into Hell</td>\n",
       "      <td>Charles Williams</td>\n",
       "      <td>1937</td>\n",
       "      <td>Wm. B. Eerdmans Publishing Company</td>\n",
       "    </tr>\n",
       "    <tr>\n",
       "      <th>36471</th>\n",
       "      <td>0395071224</td>\n",
       "      <td>The Hobbit</td>\n",
       "      <td>J. R. R. Tolkien</td>\n",
       "      <td>1938</td>\n",
       "      <td>Houghton Mifflin Company</td>\n",
       "    </tr>\n",
       "    <tr>\n",
       "      <th>42375</th>\n",
       "      <td>999750805X</td>\n",
       "      <td>The Happy Highwayman</td>\n",
       "      <td>Leslie Charteris</td>\n",
       "      <td>1939</td>\n",
       "      <td>Doubleday</td>\n",
       "    </tr>\n",
       "    <tr>\n",
       "      <th>5931</th>\n",
       "      <td>044808919X</td>\n",
       "      <td>Disappearing Floor (Hardy Boys Mystery Stories)</td>\n",
       "      <td>Franklin W. Dixon</td>\n",
       "      <td>1940</td>\n",
       "      <td>Grosset &amp;amp; Dunlap</td>\n",
       "    </tr>\n",
       "    <tr>\n",
       "      <th>92485</th>\n",
       "      <td>0448089203</td>\n",
       "      <td>Mystery of the Flying Express, (Hardy Boys Mystery Stories)</td>\n",
       "      <td>Franklin W. Dixon</td>\n",
       "      <td>1941</td>\n",
       "      <td>Grosset &amp;amp; Dunlap</td>\n",
       "    </tr>\n",
       "    <tr>\n",
       "      <th>2038</th>\n",
       "      <td>0060901012</td>\n",
       "      <td>Brave New World &amp;amp; Brave New World Revisited</td>\n",
       "      <td>Aldous Huxley</td>\n",
       "      <td>1942</td>\n",
       "      <td>Perennial</td>\n",
       "    </tr>\n",
       "    <tr>\n",
       "      <th>81316</th>\n",
       "      <td>0152465030</td>\n",
       "      <td>The Little Prince</td>\n",
       "      <td>Antoine De Saint-Exupery</td>\n",
       "      <td>1943</td>\n",
       "      <td>Harcourt</td>\n",
       "    </tr>\n",
       "    <tr>\n",
       "      <th>207770</th>\n",
       "      <td>0394906012</td>\n",
       "      <td>The Black Stallion</td>\n",
       "      <td>WALTER FARLEY</td>\n",
       "      <td>1944</td>\n",
       "      <td>Random House Books for Young Readers</td>\n",
       "    </tr>\n",
       "    <tr>\n",
       "      <th>61127</th>\n",
       "      <td>0060263954</td>\n",
       "      <td>Stuart Little 60th Anniversary Edition</td>\n",
       "      <td>E. B. White</td>\n",
       "      <td>1945</td>\n",
       "      <td>HarperCollins</td>\n",
       "    </tr>\n",
       "    <tr>\n",
       "      <th>10647</th>\n",
       "      <td>0448060043</td>\n",
       "      <td>Alice in Wonderland and Through the Looking Glass (Illustrated Junior Library)</td>\n",
       "      <td>Charles Lutwidge Dodgson</td>\n",
       "      <td>1946</td>\n",
       "      <td>Grosset &amp;amp; Dunlap</td>\n",
       "    </tr>\n",
       "    <tr>\n",
       "      <th>20297</th>\n",
       "      <td>0448095246</td>\n",
       "      <td>The Clue in the Old Album (Nancy Drew Mystery Stories, No 24)</td>\n",
       "      <td>Carolyn Keene</td>\n",
       "      <td>1947</td>\n",
       "      <td>Grosset &amp;amp; Dunlap</td>\n",
       "    </tr>\n",
       "    <tr>\n",
       "      <th>104768</th>\n",
       "      <td>0875160476</td>\n",
       "      <td>Secret Science Behind Miracles</td>\n",
       "      <td>Max F. Long</td>\n",
       "      <td>1948</td>\n",
       "      <td>DeVorss &amp;amp; Company</td>\n",
       "    </tr>\n",
       "    <tr>\n",
       "      <th>79388</th>\n",
       "      <td>0448095262</td>\n",
       "      <td>Clue of the Leaning Chimney (Nancy Drew (Hardcover))</td>\n",
       "      <td>Carolyn Keene</td>\n",
       "      <td>1949</td>\n",
       "      <td>Grosset &amp;amp; Dunlap</td>\n",
       "    </tr>\n",
       "    <tr>\n",
       "      <th>2959</th>\n",
       "      <td>0553213601</td>\n",
       "      <td>Cyrano De Bergerac (Bantam Classics)</td>\n",
       "      <td>EDMOND ROSTAND</td>\n",
       "      <td>1950</td>\n",
       "      <td>Bantam</td>\n",
       "    </tr>\n",
       "    <tr>\n",
       "      <th>18916</th>\n",
       "      <td>081120068X</td>\n",
       "      <td>Siddhartha</td>\n",
       "      <td>Hermann Hesse</td>\n",
       "      <td>1951</td>\n",
       "      <td>New Directions Publishing Corporation</td>\n",
       "    </tr>\n",
       "    <tr>\n",
       "      <th>54034</th>\n",
       "      <td>0060263857</td>\n",
       "      <td>Charlotte's Web</td>\n",
       "      <td>E. B. White</td>\n",
       "      <td>1952</td>\n",
       "      <td>Harpercollins Juvenile Books</td>\n",
       "    </tr>\n",
       "    <tr>\n",
       "      <th>15503</th>\n",
       "      <td>0064400026</td>\n",
       "      <td>Little House on the Prairie</td>\n",
       "      <td>Laura Ingalls Wilder</td>\n",
       "      <td>1953</td>\n",
       "      <td>HarperTrophy</td>\n",
       "    </tr>\n",
       "    <tr>\n",
       "      <th>20725</th>\n",
       "      <td>0395083567</td>\n",
       "      <td>My Antonia</td>\n",
       "      <td>Willa Sibert Cather</td>\n",
       "      <td>1954</td>\n",
       "      <td>Houghton Mifflin</td>\n",
       "    </tr>\n",
       "    <tr>\n",
       "      <th>15808</th>\n",
       "      <td>0156838389</td>\n",
       "      <td>Sophocles, The Oedipus Cycle: Oedipus Rex, Oedipus at Colonus, Antigone</td>\n",
       "      <td>Dudley Fitts</td>\n",
       "      <td>1955</td>\n",
       "      <td>Harvest Books</td>\n",
       "    </tr>\n",
       "    <tr>\n",
       "      <th>1685</th>\n",
       "      <td>0872860175</td>\n",
       "      <td>Howl and Other Poems (Pocket Poets)</td>\n",
       "      <td>Allen Ginsberg</td>\n",
       "      <td>1956</td>\n",
       "      <td>City Lights Publishers</td>\n",
       "    </tr>\n",
       "    <tr>\n",
       "      <th>198221</th>\n",
       "      <td>039480001X</td>\n",
       "      <td>The Cat in the Hat</td>\n",
       "      <td>Dr. Seuss</td>\n",
       "      <td>1957</td>\n",
       "      <td>Random House Books for Young Readers</td>\n",
       "    </tr>\n",
       "    <tr>\n",
       "      <th>20061</th>\n",
       "      <td>0394800028</td>\n",
       "      <td>The Cat in the Hat Comes Back (I Can Read It All by Myself Beginner Books)</td>\n",
       "      <td>Dr. Seuss</td>\n",
       "      <td>1958</td>\n",
       "      <td>Random House Books for Young Readers</td>\n",
       "    </tr>\n",
       "    <tr>\n",
       "      <th>1735</th>\n",
       "      <td>0399501487</td>\n",
       "      <td>Lord of the Flies</td>\n",
       "      <td>William Gerald Golding</td>\n",
       "      <td>1959</td>\n",
       "      <td>Perigee Trade</td>\n",
       "    </tr>\n",
       "    <tr>\n",
       "      <th>21611</th>\n",
       "      <td>0394800168</td>\n",
       "      <td>Green Eggs and Ham (I Can Read It All by Myself Beginner Books)</td>\n",
       "      <td>Dr. Seuss</td>\n",
       "      <td>1960</td>\n",
       "      <td>Random House Books for Young Readers</td>\n",
       "    </tr>\n",
       "    <tr>\n",
       "      <th>6394</th>\n",
       "      <td>0394800206</td>\n",
       "      <td>Go, Dog, Go (I Can Read It All by Myself Beginner Books)</td>\n",
       "      <td>Philip D. Eastman</td>\n",
       "      <td>1961</td>\n",
       "      <td>Random House Children's Books</td>\n",
       "    </tr>\n",
       "    <tr>\n",
       "      <th>99197</th>\n",
       "      <td>0140441212</td>\n",
       "      <td>Bhagavad Gita (Penguin Classics)</td>\n",
       "      <td>Juan Mascaro</td>\n",
       "      <td>1962</td>\n",
       "      <td>Penguin Books</td>\n",
       "    </tr>\n",
       "    <tr>\n",
       "      <th>26155</th>\n",
       "      <td>039480029X</td>\n",
       "      <td>Hop on Pop (I Can Read It All by Myself Beginner Books)</td>\n",
       "      <td>Dr. Seuss</td>\n",
       "      <td>1963</td>\n",
       "      <td>Random House Books for Young Readers</td>\n",
       "    </tr>\n",
       "    <tr>\n",
       "      <th>13198</th>\n",
       "      <td>0060256656</td>\n",
       "      <td>The Giving Tree</td>\n",
       "      <td>Shel Silverstein</td>\n",
       "      <td>1964</td>\n",
       "      <td>HarperCollins Publishers</td>\n",
       "    </tr>\n",
       "    <tr>\n",
       "      <th>461</th>\n",
       "      <td>0553210092</td>\n",
       "      <td>The Scarlet Letter</td>\n",
       "      <td>NATHANIEL HAWTHORNE</td>\n",
       "      <td>1965</td>\n",
       "      <td>Bantam</td>\n",
       "    </tr>\n",
       "    <tr>\n",
       "      <th>10390</th>\n",
       "      <td>055314300X</td>\n",
       "      <td>Bourne Identity</td>\n",
       "      <td>Robert Ludlum</td>\n",
       "      <td>1966</td>\n",
       "      <td>Bantam Doubleday Dell</td>\n",
       "    </tr>\n",
       "    <tr>\n",
       "      <th>28552</th>\n",
       "      <td>0140430229</td>\n",
       "      <td>Gulliver's Travels (Penguin Classics)</td>\n",
       "      <td>Jonathan Swift</td>\n",
       "      <td>1967</td>\n",
       "      <td>Penguin Books</td>\n",
       "    </tr>\n",
       "    <tr>\n",
       "      <th>382</th>\n",
       "      <td>0156528207</td>\n",
       "      <td>The Little Prince</td>\n",
       "      <td>Antoine de Saint-ExupÃ©ry</td>\n",
       "      <td>1968</td>\n",
       "      <td>Harcourt</td>\n",
       "    </tr>\n",
       "    <tr>\n",
       "      <th>22813</th>\n",
       "      <td>0440435749</td>\n",
       "      <td>The High King (Chronicles of Prydain (Paperback))</td>\n",
       "      <td>LLOYD ALEXANDER</td>\n",
       "      <td>1969</td>\n",
       "      <td>Yearling</td>\n",
       "    </tr>\n",
       "    <tr>\n",
       "      <th>9370</th>\n",
       "      <td>0020442203</td>\n",
       "      <td>Lion, the Witch and the Wardrobe</td>\n",
       "      <td>C.S. Lewis</td>\n",
       "      <td>1970</td>\n",
       "      <td>MacMillan Publishing Company.</td>\n",
       "    </tr>\n",
       "    <tr>\n",
       "      <th>4157</th>\n",
       "      <td>0440439884</td>\n",
       "      <td>Island of the Blue Dolphins</td>\n",
       "      <td>SCOTT O'DELL</td>\n",
       "      <td>1971</td>\n",
       "      <td>Random House Children's Books</td>\n",
       "    </tr>\n",
       "    <tr>\n",
       "      <th>8123</th>\n",
       "      <td>0553213695</td>\n",
       "      <td>The Metamorphosis (Bantam Classics)</td>\n",
       "      <td>FRANZ KAFKA</td>\n",
       "      <td>1972</td>\n",
       "      <td>Bantam</td>\n",
       "    </tr>\n",
       "    <tr>\n",
       "      <th>1373</th>\n",
       "      <td>0394404289</td>\n",
       "      <td>The Prophet</td>\n",
       "      <td>Kahlil Gibran</td>\n",
       "      <td>1973</td>\n",
       "      <td>Alfred A. Knopf</td>\n",
       "    </tr>\n",
       "    <tr>\n",
       "      <th>3805</th>\n",
       "      <td>0064400557</td>\n",
       "      <td>Charlotte's Web (Trophy Newbery)</td>\n",
       "      <td>E. B. White</td>\n",
       "      <td>1974</td>\n",
       "      <td>HarperTrophy</td>\n",
       "    </tr>\n",
       "    <tr>\n",
       "      <th>36200</th>\n",
       "      <td>038000321X</td>\n",
       "      <td>Alive : The Story of the Andes Survivors (Avon Nonfiction)</td>\n",
       "      <td>Piers Paul Read</td>\n",
       "      <td>1975</td>\n",
       "      <td>Avon</td>\n",
       "    </tr>\n",
       "    <tr>\n",
       "      <th>3138</th>\n",
       "      <td>0380002930</td>\n",
       "      <td>Watership Down</td>\n",
       "      <td>Richard Adams</td>\n",
       "      <td>1976</td>\n",
       "      <td>Avon</td>\n",
       "    </tr>\n",
       "    <tr>\n",
       "      <th>462</th>\n",
       "      <td>0553258524</td>\n",
       "      <td>Dragonsong (Harper Hall Trilogy)</td>\n",
       "      <td>Anne McCaffrey</td>\n",
       "      <td>1977</td>\n",
       "      <td>Bantam</td>\n",
       "    </tr>\n",
       "    <tr>\n",
       "      <th>1190</th>\n",
       "      <td>0380018179</td>\n",
       "      <td>The Thorn Birds</td>\n",
       "      <td>Colleen McCullough</td>\n",
       "      <td>1978</td>\n",
       "      <td>Avon</td>\n",
       "    </tr>\n",
       "    <tr>\n",
       "      <th>8390</th>\n",
       "      <td>0440901588</td>\n",
       "      <td>A Swiftly Tilting Planet</td>\n",
       "      <td>Madeleine L'Engle</td>\n",
       "      <td>1979</td>\n",
       "      <td>Laure Leaf</td>\n",
       "    </tr>\n",
       "    <tr>\n",
       "      <th>3574</th>\n",
       "      <td>0671250671</td>\n",
       "      <td>ROAD LESS TRAVELED : A New Psychology of Love, Traditional Values, and Spritual Growth (Touchstone Books (Paperback))</td>\n",
       "      <td>M. Scott Peck</td>\n",
       "      <td>1980</td>\n",
       "      <td>Touchstone</td>\n",
       "    </tr>\n",
       "    <tr>\n",
       "      <th>3236</th>\n",
       "      <td>0553208845</td>\n",
       "      <td>Siddhartha</td>\n",
       "      <td>Hermann Hesse</td>\n",
       "      <td>1981</td>\n",
       "      <td>Bantam Classics</td>\n",
       "    </tr>\n",
       "    <tr>\n",
       "      <th>3709</th>\n",
       "      <td>0553272535</td>\n",
       "      <td>Night</td>\n",
       "      <td>Elie Wiesel</td>\n",
       "      <td>1982</td>\n",
       "      <td>Bantam Books</td>\n",
       "    </tr>\n",
       "    <tr>\n",
       "      <th>72</th>\n",
       "      <td>0140067477</td>\n",
       "      <td>The Tao of Pooh</td>\n",
       "      <td>Benjamin Hoff</td>\n",
       "      <td>1983</td>\n",
       "      <td>Penguin Books</td>\n",
       "    </tr>\n",
       "    <tr>\n",
       "      <th>14845</th>\n",
       "      <td>0553250426</td>\n",
       "      <td>The Clan of the Cave Bear (Earth's Children (Paperback))</td>\n",
       "      <td>Jean M. Auel</td>\n",
       "      <td>1984</td>\n",
       "      <td>Bantam Books</td>\n",
       "    </tr>\n",
       "    <tr>\n",
       "      <th>2525</th>\n",
       "      <td>0671617028</td>\n",
       "      <td>The Color Purple</td>\n",
       "      <td>Alice Walker</td>\n",
       "      <td>1985</td>\n",
       "      <td>Pocket Books</td>\n",
       "    </tr>\n",
       "    <tr>\n",
       "      <th>3320</th>\n",
       "      <td>0345339681</td>\n",
       "      <td>The Hobbit : The Enchanting Prelude to The Lord of the Rings</td>\n",
       "      <td>J.R.R. TOLKIEN</td>\n",
       "      <td>1986</td>\n",
       "      <td>Del Rey</td>\n",
       "    </tr>\n",
       "    <tr>\n",
       "      <th>2202</th>\n",
       "      <td>0345342968</td>\n",
       "      <td>Fahrenheit 451</td>\n",
       "      <td>RAY BRADBURY</td>\n",
       "      <td>1987</td>\n",
       "      <td>Del Rey</td>\n",
       "    </tr>\n",
       "    <tr>\n",
       "      <th>37</th>\n",
       "      <td>0446310786</td>\n",
       "      <td>To Kill a Mockingbird</td>\n",
       "      <td>Harper Lee</td>\n",
       "      <td>1988</td>\n",
       "      <td>Little Brown &amp;amp; Company</td>\n",
       "    </tr>\n",
       "    <tr>\n",
       "      <th>507</th>\n",
       "      <td>0060915544</td>\n",
       "      <td>The Bean Trees</td>\n",
       "      <td>Barbara Kingsolver</td>\n",
       "      <td>1989</td>\n",
       "      <td>Perennial</td>\n",
       "    </tr>\n",
       "    <tr>\n",
       "      <th>1366</th>\n",
       "      <td>0345361792</td>\n",
       "      <td>A Prayer for Owen Meany</td>\n",
       "      <td>John Irving</td>\n",
       "      <td>1990</td>\n",
       "      <td>Ballantine Books</td>\n",
       "    </tr>\n",
       "    <tr>\n",
       "      <th>89</th>\n",
       "      <td>0316769487</td>\n",
       "      <td>The Catcher in the Rye</td>\n",
       "      <td>J.D. Salinger</td>\n",
       "      <td>1991</td>\n",
       "      <td>Little, Brown</td>\n",
       "    </tr>\n",
       "    <tr>\n",
       "      <th>119226</th>\n",
       "      <td>044021145X</td>\n",
       "      <td>The Firm</td>\n",
       "      <td>John Grisham</td>\n",
       "      <td>1992</td>\n",
       "      <td>Bantam Dell Publishing Group</td>\n",
       "    </tr>\n",
       "    <tr>\n",
       "      <th>2497</th>\n",
       "      <td>0345337662</td>\n",
       "      <td>Interview with the Vampire</td>\n",
       "      <td>Anne Rice</td>\n",
       "      <td>1993</td>\n",
       "      <td>Ballantine Books</td>\n",
       "    </tr>\n",
       "    <tr>\n",
       "      <th>66</th>\n",
       "      <td>0804106304</td>\n",
       "      <td>The Joy Luck Club</td>\n",
       "      <td>Amy Tan</td>\n",
       "      <td>1994</td>\n",
       "      <td>Prentice Hall (K-12)</td>\n",
       "    </tr>\n",
       "    <tr>\n",
       "      <th>113954</th>\n",
       "      <td>067976402X</td>\n",
       "      <td>Snow Falling on Cedars</td>\n",
       "      <td>David Guterson</td>\n",
       "      <td>1995</td>\n",
       "      <td>Vintage Books USA</td>\n",
       "    </tr>\n",
       "    <tr>\n",
       "      <th>1087</th>\n",
       "      <td>0671003755</td>\n",
       "      <td>She's Come Undone (Oprah's Book Club (Paperback))</td>\n",
       "      <td>Wally Lamb</td>\n",
       "      <td>1996</td>\n",
       "      <td>Washington Square Press</td>\n",
       "    </tr>\n",
       "    <tr>\n",
       "      <th>1086</th>\n",
       "      <td>0060928336</td>\n",
       "      <td>Divine Secrets of the Ya-Ya Sisterhood: A Novel</td>\n",
       "      <td>Rebecca Wells</td>\n",
       "      <td>1997</td>\n",
       "      <td>Perennial</td>\n",
       "    </tr>\n",
       "    <tr>\n",
       "      <th>513</th>\n",
       "      <td>0312195516</td>\n",
       "      <td>The Red Tent (Bestselling Backlist)</td>\n",
       "      <td>Anita Diamant</td>\n",
       "      <td>1998</td>\n",
       "      <td>Picador USA</td>\n",
       "    </tr>\n",
       "    <tr>\n",
       "      <th>77151</th>\n",
       "      <td>059035342X</td>\n",
       "      <td>Harry Potter and the Sorcerer's Stone (Harry Potter (Paperback))</td>\n",
       "      <td>J. K. Rowling</td>\n",
       "      <td>1999</td>\n",
       "      <td>Arthur A. Levine Books</td>\n",
       "    </tr>\n",
       "    <tr>\n",
       "      <th>4385</th>\n",
       "      <td>0375727345</td>\n",
       "      <td>House of Sand and Fog</td>\n",
       "      <td>Andre Dubus III</td>\n",
       "      <td>2000</td>\n",
       "      <td>Vintage Books</td>\n",
       "    </tr>\n",
       "    <tr>\n",
       "      <th>188607</th>\n",
       "      <td>044023722X</td>\n",
       "      <td>A Painted House</td>\n",
       "      <td>John Grisham</td>\n",
       "      <td>2001</td>\n",
       "      <td>Dell Publishing Company</td>\n",
       "    </tr>\n",
       "    <tr>\n",
       "      <th>401</th>\n",
       "      <td>0316666343</td>\n",
       "      <td>The Lovely Bones: A Novel</td>\n",
       "      <td>Alice Sebold</td>\n",
       "      <td>2002</td>\n",
       "      <td>Little, Brown</td>\n",
       "    </tr>\n",
       "    <tr>\n",
       "      <th>734</th>\n",
       "      <td>0385504209</td>\n",
       "      <td>The Da Vinci Code</td>\n",
       "      <td>Dan Brown</td>\n",
       "      <td>2003</td>\n",
       "      <td>Doubleday</td>\n",
       "    </tr>\n",
       "    <tr>\n",
       "      <th>26</th>\n",
       "      <td>0971880107</td>\n",
       "      <td>Wild Animus</td>\n",
       "      <td>Rich Shapero</td>\n",
       "      <td>2004</td>\n",
       "      <td>Too Far</td>\n",
       "    </tr>\n",
       "    <tr>\n",
       "      <th>38359</th>\n",
       "      <td>1881273156</td>\n",
       "      <td>The Five Love Languages: Five Love Languages</td>\n",
       "      <td>Gary Chapman</td>\n",
       "      <td>2005</td>\n",
       "      <td>Moody Publishers</td>\n",
       "    </tr>\n",
       "    <tr>\n",
       "      <th>199845</th>\n",
       "      <td>1903436346</td>\n",
       "      <td>The Winter's Tale - Arden Shakespeare : Third Series - Hardback (Arden Shakespeare Third Series)</td>\n",
       "      <td>John Pitcher</td>\n",
       "      <td>2006</td>\n",
       "      <td>Arden</td>\n",
       "    </tr>\n",
       "    <tr>\n",
       "      <th>147061</th>\n",
       "      <td>0743457226</td>\n",
       "      <td>Deep Waters</td>\n",
       "      <td>Jayne Ann Krentz</td>\n",
       "      <td>2010</td>\n",
       "      <td>Pocket</td>\n",
       "    </tr>\n",
       "    <tr>\n",
       "      <th>235114</th>\n",
       "      <td>0394172116</td>\n",
       "      <td>Monkey (An Evergreen Book, E-112)</td>\n",
       "      <td>Cheng-En Wu</td>\n",
       "      <td>2011</td>\n",
       "      <td>Grove Press</td>\n",
       "    </tr>\n",
       "    <tr>\n",
       "      <th>91906</th>\n",
       "      <td>068107468X</td>\n",
       "      <td>Edgar Allen Poe Collected Poems</td>\n",
       "      <td>Edgar Allan Poe</td>\n",
       "      <td>2020</td>\n",
       "      <td>Bausch &amp;amp; Lombard</td>\n",
       "    </tr>\n",
       "    <tr>\n",
       "      <th>183474</th>\n",
       "      <td>0590085417</td>\n",
       "      <td>Heidi</td>\n",
       "      <td>Johanna Spyri</td>\n",
       "      <td>2021</td>\n",
       "      <td>Scholastic</td>\n",
       "    </tr>\n",
       "  </tbody>\n",
       "</table>\n",
       "</div>"
      ],
      "text/plain": [
       "              ISBN  \\\n",
       "253437  964442011X   \n",
       "227222  9643112136   \n",
       "171529  0781228956   \n",
       "211547  1551103982   \n",
       "262204  0671397214   \n",
       "102242  0373226888   \n",
       "45599   038528120X   \n",
       "170683  0404089119   \n",
       "159472  0911662251   \n",
       "191891  0892760508   \n",
       "8369    0684717603   \n",
       "60245   0440745454   \n",
       "198308  0486600815   \n",
       "120296  0023381205   \n",
       "34910   0684718081   \n",
       "62792   0448089033   \n",
       "182072  9997520858   \n",
       "54024   0684717972   \n",
       "11326   0448095017   \n",
       "167762  074752694X   \n",
       "51668   0448095076   \n",
       "171066  0804617279   \n",
       "80855   0961505109   \n",
       "186151  0882436600   \n",
       "11012   068483068X   \n",
       "102614  0802812201   \n",
       "36471   0395071224   \n",
       "42375   999750805X   \n",
       "5931    044808919X   \n",
       "92485   0448089203   \n",
       "2038    0060901012   \n",
       "81316   0152465030   \n",
       "207770  0394906012   \n",
       "61127   0060263954   \n",
       "10647   0448060043   \n",
       "20297   0448095246   \n",
       "104768  0875160476   \n",
       "79388   0448095262   \n",
       "2959    0553213601   \n",
       "18916   081120068X   \n",
       "54034   0060263857   \n",
       "15503   0064400026   \n",
       "20725   0395083567   \n",
       "15808   0156838389   \n",
       "1685    0872860175   \n",
       "198221  039480001X   \n",
       "20061   0394800028   \n",
       "1735    0399501487   \n",
       "21611   0394800168   \n",
       "6394    0394800206   \n",
       "99197   0140441212   \n",
       "26155   039480029X   \n",
       "13198   0060256656   \n",
       "461     0553210092   \n",
       "10390   055314300X   \n",
       "28552   0140430229   \n",
       "382     0156528207   \n",
       "22813   0440435749   \n",
       "9370    0020442203   \n",
       "4157    0440439884   \n",
       "8123    0553213695   \n",
       "1373    0394404289   \n",
       "3805    0064400557   \n",
       "36200   038000321X   \n",
       "3138    0380002930   \n",
       "462     0553258524   \n",
       "1190    0380018179   \n",
       "8390    0440901588   \n",
       "3574    0671250671   \n",
       "3236    0553208845   \n",
       "3709    0553272535   \n",
       "72      0140067477   \n",
       "14845   0553250426   \n",
       "2525    0671617028   \n",
       "3320    0345339681   \n",
       "2202    0345342968   \n",
       "37      0446310786   \n",
       "507     0060915544   \n",
       "1366    0345361792   \n",
       "89      0316769487   \n",
       "119226  044021145X   \n",
       "2497    0345337662   \n",
       "66      0804106304   \n",
       "113954  067976402X   \n",
       "1087    0671003755   \n",
       "1086    0060928336   \n",
       "513     0312195516   \n",
       "77151   059035342X   \n",
       "4385    0375727345   \n",
       "188607  044023722X   \n",
       "401     0316666343   \n",
       "734     0385504209   \n",
       "26      0971880107   \n",
       "38359   1881273156   \n",
       "199845  1903436346   \n",
       "147061  0743457226   \n",
       "235114  0394172116   \n",
       "91906   068107468X   \n",
       "183474  0590085417   \n",
       "\n",
       "                                                                                                                   Book-Title  \\\n",
       "253437  Tasht-i khun                                                                                                            \n",
       "227222  Dalan-i bihisht (Dastan-i Irani)                                                                                        \n",
       "171529  Complete Works 10 Volumes [2,6,7,8,9] (Notable American Authors)                                                        \n",
       "211547  The Cycling Adventures of Coconut Head: A North American Odyssey                                                        \n",
       "262204  JOY OF MUSIC     P                                                                                                      \n",
       "102242  Tommy's Mom                                                                                                             \n",
       "45599   CATCH 22                                                                                                                \n",
       "170683  Charlotte Bronte and Her Sisters                                                                                        \n",
       "159472  Kybalion: A Study of the Hermetic Philosophy of Ancient Egypt and Greece                                                \n",
       "191891  New Birth                                                                                                               \n",
       "8369    The GREAT GATSBY (Scribner Classic)                                                                                     \n",
       "60245   HOW TO EAT FRIED WORMS                                                                                                  \n",
       "198308  Principle of Relativity (Dover Books on Physics)                                                                        \n",
       "120296  Great Gatsby, The                                                                                                       \n",
       "34910   The Sun Also Rises                                                                                                      \n",
       "62792   The Secret of the Old Mill (The Hardy Boys Mystery Stories, Book 3)                                                     \n",
       "182072  Beau Ideal                                                                                                              \n",
       "54024   Farewell to Arms                                                                                                        \n",
       "11326   The Secret of the Old Clock (Nancy Drew Mystery Stories, No 1)                                                          \n",
       "167762  Bloomsbury Good Reading Guide                                                                                           \n",
       "51668   The Clue in the Diary (Nancy Drew Mystery Stories Number 7)                                                             \n",
       "171066  Legends of Angria,                                                                                                      \n",
       "80855   Narrow Land: Folk Chronicles of Old Cape Cod (Chatham Historical Society)                                               \n",
       "186151  Through the Bible Book by Book: Genesis to Esthe/Part 1 (Through the Bible Book by Book)                                \n",
       "11012   Gone With the Wind                                                                                                      \n",
       "102614  Descent into Hell                                                                                                       \n",
       "36471   The Hobbit                                                                                                              \n",
       "42375   The Happy Highwayman                                                                                                    \n",
       "5931    Disappearing Floor (Hardy Boys Mystery Stories)                                                                         \n",
       "92485   Mystery of the Flying Express, (Hardy Boys Mystery Stories)                                                             \n",
       "2038    Brave New World &amp; Brave New World Revisited                                                                         \n",
       "81316   The Little Prince                                                                                                       \n",
       "207770  The Black Stallion                                                                                                      \n",
       "61127   Stuart Little 60th Anniversary Edition                                                                                  \n",
       "10647   Alice in Wonderland and Through the Looking Glass (Illustrated Junior Library)                                          \n",
       "20297   The Clue in the Old Album (Nancy Drew Mystery Stories, No 24)                                                           \n",
       "104768  Secret Science Behind Miracles                                                                                          \n",
       "79388   Clue of the Leaning Chimney (Nancy Drew (Hardcover))                                                                    \n",
       "2959    Cyrano De Bergerac (Bantam Classics)                                                                                    \n",
       "18916   Siddhartha                                                                                                              \n",
       "54034   Charlotte's Web                                                                                                         \n",
       "15503   Little House on the Prairie                                                                                             \n",
       "20725   My Antonia                                                                                                              \n",
       "15808   Sophocles, The Oedipus Cycle: Oedipus Rex, Oedipus at Colonus, Antigone                                                 \n",
       "1685    Howl and Other Poems (Pocket Poets)                                                                                     \n",
       "198221  The Cat in the Hat                                                                                                      \n",
       "20061   The Cat in the Hat Comes Back (I Can Read It All by Myself Beginner Books)                                              \n",
       "1735    Lord of the Flies                                                                                                       \n",
       "21611   Green Eggs and Ham (I Can Read It All by Myself Beginner Books)                                                         \n",
       "6394    Go, Dog, Go (I Can Read It All by Myself Beginner Books)                                                                \n",
       "99197   Bhagavad Gita (Penguin Classics)                                                                                        \n",
       "26155   Hop on Pop (I Can Read It All by Myself Beginner Books)                                                                 \n",
       "13198   The Giving Tree                                                                                                         \n",
       "461     The Scarlet Letter                                                                                                      \n",
       "10390   Bourne Identity                                                                                                         \n",
       "28552   Gulliver's Travels (Penguin Classics)                                                                                   \n",
       "382     The Little Prince                                                                                                       \n",
       "22813   The High King (Chronicles of Prydain (Paperback))                                                                       \n",
       "9370    Lion, the Witch and the Wardrobe                                                                                        \n",
       "4157    Island of the Blue Dolphins                                                                                             \n",
       "8123    The Metamorphosis (Bantam Classics)                                                                                     \n",
       "1373    The Prophet                                                                                                             \n",
       "3805    Charlotte's Web (Trophy Newbery)                                                                                        \n",
       "36200   Alive : The Story of the Andes Survivors (Avon Nonfiction)                                                              \n",
       "3138    Watership Down                                                                                                          \n",
       "462     Dragonsong (Harper Hall Trilogy)                                                                                        \n",
       "1190    The Thorn Birds                                                                                                         \n",
       "8390    A Swiftly Tilting Planet                                                                                                \n",
       "3574    ROAD LESS TRAVELED : A New Psychology of Love, Traditional Values, and Spritual Growth (Touchstone Books (Paperback))   \n",
       "3236    Siddhartha                                                                                                              \n",
       "3709    Night                                                                                                                   \n",
       "72      The Tao of Pooh                                                                                                         \n",
       "14845   The Clan of the Cave Bear (Earth's Children (Paperback))                                                                \n",
       "2525    The Color Purple                                                                                                        \n",
       "3320    The Hobbit : The Enchanting Prelude to The Lord of the Rings                                                            \n",
       "2202    Fahrenheit 451                                                                                                          \n",
       "37      To Kill a Mockingbird                                                                                                   \n",
       "507     The Bean Trees                                                                                                          \n",
       "1366    A Prayer for Owen Meany                                                                                                 \n",
       "89      The Catcher in the Rye                                                                                                  \n",
       "119226  The Firm                                                                                                                \n",
       "2497    Interview with the Vampire                                                                                              \n",
       "66      The Joy Luck Club                                                                                                       \n",
       "113954  Snow Falling on Cedars                                                                                                  \n",
       "1087    She's Come Undone (Oprah's Book Club (Paperback))                                                                       \n",
       "1086    Divine Secrets of the Ya-Ya Sisterhood: A Novel                                                                         \n",
       "513     The Red Tent (Bestselling Backlist)                                                                                     \n",
       "77151   Harry Potter and the Sorcerer's Stone (Harry Potter (Paperback))                                                        \n",
       "4385    House of Sand and Fog                                                                                                   \n",
       "188607  A Painted House                                                                                                         \n",
       "401     The Lovely Bones: A Novel                                                                                               \n",
       "734     The Da Vinci Code                                                                                                       \n",
       "26      Wild Animus                                                                                                             \n",
       "38359   The Five Love Languages: Five Love Languages                                                                            \n",
       "199845  The Winter's Tale - Arden Shakespeare : Third Series - Hardback (Arden Shakespeare Third Series)                        \n",
       "147061  Deep Waters                                                                                                             \n",
       "235114  Monkey (An Evergreen Book, E-112)                                                                                       \n",
       "91906   Edgar Allen Poe Collected Poems                                                                                         \n",
       "183474  Heidi                                                                                                                   \n",
       "\n",
       "                      Book-Author  Year-Of-Publication  \\\n",
       "253437  IsmaÂ°il Fasih             1376                  \n",
       "227222  Nazi Safavi                1378                  \n",
       "171529  Benjamin Franklin          1806                  \n",
       "211547  Ted Schredd                1900                  \n",
       "262204  Leonard Bernstein          1901                  \n",
       "102242  Linda O. Johnston          1902                  \n",
       "45599   JOSEPH HELLER              1904                  \n",
       "170683  Clement K. Shorter         1906                  \n",
       "159472  Three Initiates            1908                  \n",
       "191891  Kenneth Hagin              1911                  \n",
       "8369    F. Scott Fritzgerald       1920                  \n",
       "60245   THOMAS ROCKWELL            1923                  \n",
       "198308  Albert Einstein            1924                  \n",
       "120296  F. Scott Fitzgerald        1925                  \n",
       "34910   Ernest Hemingway           1926                  \n",
       "62792   Franklin W. Dixon          1927                  \n",
       "182072  Percival C. Wren           1928                  \n",
       "54024   Ernest Hemingway           1929                  \n",
       "11326   Carolyn Keene              1930                  \n",
       "167762  Kenneth McLeish            1931                  \n",
       "51668   Carolyn Keene              1932                  \n",
       "171066  Charlotte Bronte           1933                  \n",
       "80855   Elizabeth Reynard          1934                  \n",
       "186151  Myer Pearlman              1935                  \n",
       "11012   Margaret Mitchell          1936                  \n",
       "102614  Charles Williams           1937                  \n",
       "36471   J. R. R. Tolkien           1938                  \n",
       "42375   Leslie Charteris           1939                  \n",
       "5931    Franklin W. Dixon          1940                  \n",
       "92485   Franklin W. Dixon          1941                  \n",
       "2038    Aldous Huxley              1942                  \n",
       "81316   Antoine De Saint-Exupery   1943                  \n",
       "207770  WALTER FARLEY              1944                  \n",
       "61127   E. B. White                1945                  \n",
       "10647   Charles Lutwidge Dodgson   1946                  \n",
       "20297   Carolyn Keene              1947                  \n",
       "104768  Max F. Long                1948                  \n",
       "79388   Carolyn Keene              1949                  \n",
       "2959    EDMOND ROSTAND             1950                  \n",
       "18916   Hermann Hesse              1951                  \n",
       "54034   E. B. White                1952                  \n",
       "15503   Laura Ingalls Wilder       1953                  \n",
       "20725   Willa Sibert Cather        1954                  \n",
       "15808   Dudley Fitts               1955                  \n",
       "1685    Allen Ginsberg             1956                  \n",
       "198221  Dr. Seuss                  1957                  \n",
       "20061   Dr. Seuss                  1958                  \n",
       "1735    William Gerald Golding     1959                  \n",
       "21611   Dr. Seuss                  1960                  \n",
       "6394    Philip D. Eastman          1961                  \n",
       "99197   Juan Mascaro               1962                  \n",
       "26155   Dr. Seuss                  1963                  \n",
       "13198   Shel Silverstein           1964                  \n",
       "461     NATHANIEL HAWTHORNE        1965                  \n",
       "10390   Robert Ludlum              1966                  \n",
       "28552   Jonathan Swift             1967                  \n",
       "382     Antoine de Saint-ExupÃ©ry  1968                  \n",
       "22813   LLOYD ALEXANDER            1969                  \n",
       "9370    C.S. Lewis                 1970                  \n",
       "4157    SCOTT O'DELL               1971                  \n",
       "8123    FRANZ KAFKA                1972                  \n",
       "1373    Kahlil Gibran              1973                  \n",
       "3805    E. B. White                1974                  \n",
       "36200   Piers Paul Read            1975                  \n",
       "3138    Richard Adams              1976                  \n",
       "462     Anne McCaffrey             1977                  \n",
       "1190    Colleen McCullough         1978                  \n",
       "8390    Madeleine L'Engle          1979                  \n",
       "3574    M. Scott Peck              1980                  \n",
       "3236    Hermann Hesse              1981                  \n",
       "3709    Elie Wiesel                1982                  \n",
       "72      Benjamin Hoff              1983                  \n",
       "14845   Jean M. Auel               1984                  \n",
       "2525    Alice Walker               1985                  \n",
       "3320    J.R.R. TOLKIEN             1986                  \n",
       "2202    RAY BRADBURY               1987                  \n",
       "37      Harper Lee                 1988                  \n",
       "507     Barbara Kingsolver         1989                  \n",
       "1366    John Irving                1990                  \n",
       "89      J.D. Salinger              1991                  \n",
       "119226  John Grisham               1992                  \n",
       "2497    Anne Rice                  1993                  \n",
       "66      Amy Tan                    1994                  \n",
       "113954  David Guterson             1995                  \n",
       "1087    Wally Lamb                 1996                  \n",
       "1086    Rebecca Wells              1997                  \n",
       "513     Anita Diamant              1998                  \n",
       "77151   J. K. Rowling              1999                  \n",
       "4385    Andre Dubus III            2000                  \n",
       "188607  John Grisham               2001                  \n",
       "401     Alice Sebold               2002                  \n",
       "734     Dan Brown                  2003                  \n",
       "26      Rich Shapero               2004                  \n",
       "38359   Gary Chapman               2005                  \n",
       "199845  John Pitcher               2006                  \n",
       "147061  Jayne Ann Krentz           2010                  \n",
       "235114  Cheng-En Wu                2011                  \n",
       "91906   Edgar Allan Poe            2020                  \n",
       "183474  Johanna Spyri              2021                  \n",
       "\n",
       "                                    Publisher  \n",
       "253437  Nashr-i Alburz                         \n",
       "227222  Intisharat-i Quqnus                    \n",
       "171529  Reprint Services Corp                  \n",
       "211547  Graphic Arts Center Pub Co             \n",
       "262204  Fireside                               \n",
       "102242  Harlequin                              \n",
       "45599   Delta                                  \n",
       "170683  Ams Pr                                 \n",
       "159472  Yoga Publication Society               \n",
       "191891  Faith Library Publications             \n",
       "8369    Scribner Paper Fiction                 \n",
       "60245   Yearling                               \n",
       "198308  Dover Publications                     \n",
       "120296  Prentice Hall                          \n",
       "34910   Scribner Book Company                  \n",
       "62792   Grosset &amp; Dunlap                   \n",
       "182072  Stokes Pub Co                          \n",
       "54024   Charles Scribner's Sons                \n",
       "11326   Grosset &amp; Dunlap                   \n",
       "167762  Trafalgar Square Publishing            \n",
       "51668   Imagination Studio                     \n",
       "171066  Gateway/Associated Faculty Pr          \n",
       "80855   Parnassus Press                        \n",
       "186151  Gospel Publishing House                \n",
       "11012   Scribner                               \n",
       "102614  Wm. B. Eerdmans Publishing Company     \n",
       "36471   Houghton Mifflin Company               \n",
       "42375   Doubleday                              \n",
       "5931    Grosset &amp; Dunlap                   \n",
       "92485   Grosset &amp; Dunlap                   \n",
       "2038    Perennial                              \n",
       "81316   Harcourt                               \n",
       "207770  Random House Books for Young Readers   \n",
       "61127   HarperCollins                          \n",
       "10647   Grosset &amp; Dunlap                   \n",
       "20297   Grosset &amp; Dunlap                   \n",
       "104768  DeVorss &amp; Company                  \n",
       "79388   Grosset &amp; Dunlap                   \n",
       "2959    Bantam                                 \n",
       "18916   New Directions Publishing Corporation  \n",
       "54034   Harpercollins Juvenile Books           \n",
       "15503   HarperTrophy                           \n",
       "20725   Houghton Mifflin                       \n",
       "15808   Harvest Books                          \n",
       "1685    City Lights Publishers                 \n",
       "198221  Random House Books for Young Readers   \n",
       "20061   Random House Books for Young Readers   \n",
       "1735    Perigee Trade                          \n",
       "21611   Random House Books for Young Readers   \n",
       "6394    Random House Children's Books          \n",
       "99197   Penguin Books                          \n",
       "26155   Random House Books for Young Readers   \n",
       "13198   HarperCollins Publishers               \n",
       "461     Bantam                                 \n",
       "10390   Bantam Doubleday Dell                  \n",
       "28552   Penguin Books                          \n",
       "382     Harcourt                               \n",
       "22813   Yearling                               \n",
       "9370    MacMillan Publishing Company.          \n",
       "4157    Random House Children's Books          \n",
       "8123    Bantam                                 \n",
       "1373    Alfred A. Knopf                        \n",
       "3805    HarperTrophy                           \n",
       "36200   Avon                                   \n",
       "3138    Avon                                   \n",
       "462     Bantam                                 \n",
       "1190    Avon                                   \n",
       "8390    Laure Leaf                             \n",
       "3574    Touchstone                             \n",
       "3236    Bantam Classics                        \n",
       "3709    Bantam Books                           \n",
       "72      Penguin Books                          \n",
       "14845   Bantam Books                           \n",
       "2525    Pocket Books                           \n",
       "3320    Del Rey                                \n",
       "2202    Del Rey                                \n",
       "37      Little Brown &amp; Company             \n",
       "507     Perennial                              \n",
       "1366    Ballantine Books                       \n",
       "89      Little, Brown                          \n",
       "119226  Bantam Dell Publishing Group           \n",
       "2497    Ballantine Books                       \n",
       "66      Prentice Hall (K-12)                   \n",
       "113954  Vintage Books USA                      \n",
       "1087    Washington Square Press                \n",
       "1086    Perennial                              \n",
       "513     Picador USA                            \n",
       "77151   Arthur A. Levine Books                 \n",
       "4385    Vintage Books                          \n",
       "188607  Dell Publishing Company                \n",
       "401     Little, Brown                          \n",
       "734     Doubleday                              \n",
       "26      Too Far                                \n",
       "38359   Moody Publishers                       \n",
       "199845  Arden                                  \n",
       "147061  Pocket                                 \n",
       "235114  Grove Press                            \n",
       "91906   Bausch &amp; Lombard                   \n",
       "183474  Scholastic                             "
      ]
     },
     "execution_count": 65,
     "metadata": {},
     "output_type": "execute_result"
    }
   ],
   "source": [
    "data = pd.DataFrame(dataset1.groupby('ISBN')['Book-Rating'].count()).sort_values('Book-Rating', ascending=False)\n",
    "data = pd.merge(data, books, on='ISBN', left_index = True)\n",
    "\n",
    "years = set()\n",
    "indices = []\n",
    "for ind, row in data.iterrows():\n",
    "    if row['Year-Of-Publication'] in years:\n",
    "        indices.append(ind)\n",
    "    else:\n",
    "        years.add(row['Year-Of-Publication'])\n",
    "\n",
    "data = data.drop(indices)\n",
    "data = data.drop('Book-Rating', axis = 1)\n",
    "data = data.sort_values('Year-Of-Publication')\n",
    "\n",
    "pd.set_option(\"display.max_rows\", None, \"display.max_columns\", None)\n",
    "data"
   ]
  },
  {
   "cell_type": "markdown",
   "metadata": {
    "id": "wq6UNh5HjdBC"
   },
   "source": [
    "<b><h5>5. Average Weighted Ratings"
   ]
  },
  {
   "cell_type": "code",
   "execution_count": 66,
   "metadata": {
    "executionInfo": {
     "elapsed": 670,
     "status": "ok",
     "timestamp": 1623912507862,
     "user": {
      "displayName": "Ashima IIITD",
      "photoUrl": "https://lh3.googleusercontent.com/a-/AOh14Gg51iTXizYDNTZkEdwmQ5GkwRQ8vp_9KTB8UVlC=s64",
      "userId": "02694856405090268186"
     },
     "user_tz": -330
    },
    "id": "ilzR4tNhc6ts"
   },
   "outputs": [],
   "source": [
    "def avgRating(newdf, df):\n",
    "    newdf['Average Rating'] = 0\n",
    "    for x in range(len(newdf)):\n",
    "        l = list(df.loc[df['Book-Title'] == newdf['Book-Title'][x]]['Book-Rating'])\n",
    "        newdf['Average Rating'][x] = sum(l)/len(l)\n",
    "    return newdf\n",
    "\n",
    "df = pd.DataFrame(dataset1['Book-Title'].value_counts())\n",
    "df['Total-Ratings'] = df['Book-Title']\n",
    "df['Book-Title'] = df.index\n",
    "df.reset_index(level=0, inplace=True)\n",
    "df = df.drop('index',axis=1)\n",
    "\n",
    "# df = avgRating(df, dataset1)\n",
    "# df.to_pickle('weightedData')\n",
    "df = pd.read_pickle('weightedData')"
   ]
  },
  {
   "cell_type": "code",
   "execution_count": 67,
   "metadata": {
    "executionInfo": {
     "elapsed": 9,
     "status": "ok",
     "timestamp": 1623912507862,
     "user": {
      "displayName": "Ashima IIITD",
      "photoUrl": "https://lh3.googleusercontent.com/a-/AOh14Gg51iTXizYDNTZkEdwmQ5GkwRQ8vp_9KTB8UVlC=s64",
      "userId": "02694856405090268186"
     },
     "user_tz": -330
    },
    "id": "ZnRxHdScj_zi"
   },
   "outputs": [],
   "source": [
    "## C - Mean vote across the whole\n",
    "C = df['Average Rating'].mean()\n",
    "\n",
    "## Minimum number of votes required to be in the chart\n",
    "m = df['Total-Ratings'].quantile(0.90)"
   ]
  },
  {
   "cell_type": "code",
   "execution_count": 68,
   "metadata": {
    "executionInfo": {
     "elapsed": 9,
     "status": "ok",
     "timestamp": 1623912507863,
     "user": {
      "displayName": "Ashima IIITD",
      "photoUrl": "https://lh3.googleusercontent.com/a-/AOh14Gg51iTXizYDNTZkEdwmQ5GkwRQ8vp_9KTB8UVlC=s64",
      "userId": "02694856405090268186"
     },
     "user_tz": -330
    },
    "id": "tFB8wKhFmYa3"
   },
   "outputs": [],
   "source": [
    "def weighted_rating(x, m=m, C=C): \n",
    "    v = x['Total-Ratings']    #v - number of votes\n",
    "    R = x['Average Rating']   #R - Average Rating   \n",
    "    return (v/(v+m) * R) + (m/(m+v) * C)"
   ]
  },
  {
   "cell_type": "code",
   "execution_count": 69,
   "metadata": {
    "colab": {
     "base_uri": "https://localhost:8080/",
     "height": 238
    },
    "executionInfo": {
     "elapsed": 8,
     "status": "ok",
     "timestamp": 1623912507863,
     "user": {
      "displayName": "Ashima IIITD",
      "photoUrl": "https://lh3.googleusercontent.com/a-/AOh14Gg51iTXizYDNTZkEdwmQ5GkwRQ8vp_9KTB8UVlC=s64",
      "userId": "02694856405090268186"
     },
     "user_tz": -330
    },
    "id": "-6bX67JBB5eq",
    "outputId": "71bff8fc-5b9e-4f88-9b8b-d27994cc8f77"
   },
   "outputs": [
    {
     "name": "stdout",
     "output_type": "stream",
     "text": [
      "Recommended Books:-\n",
      "\n"
     ]
    },
    {
     "data": {
      "text/html": [
       "<div>\n",
       "<style scoped>\n",
       "    .dataframe tbody tr th:only-of-type {\n",
       "        vertical-align: middle;\n",
       "    }\n",
       "\n",
       "    .dataframe tbody tr th {\n",
       "        vertical-align: top;\n",
       "    }\n",
       "\n",
       "    .dataframe thead th {\n",
       "        text-align: right;\n",
       "    }\n",
       "</style>\n",
       "<table border=\"1\" class=\"dataframe\">\n",
       "  <thead>\n",
       "    <tr style=\"text-align: right;\">\n",
       "      <th></th>\n",
       "      <th>Book-Title</th>\n",
       "      <th>Total-Ratings</th>\n",
       "      <th>Average Rating</th>\n",
       "      <th>score</th>\n",
       "    </tr>\n",
       "  </thead>\n",
       "  <tbody>\n",
       "    <tr>\n",
       "      <th>4794</th>\n",
       "      <td>Postmarked Yesteryear: 30 Rare Holiday Postcards</td>\n",
       "      <td>11</td>\n",
       "      <td>10</td>\n",
       "      <td>9.189906</td>\n",
       "    </tr>\n",
       "    <tr>\n",
       "      <th>7272</th>\n",
       "      <td>The Sneetches and Other Stories</td>\n",
       "      <td>8</td>\n",
       "      <td>10</td>\n",
       "      <td>9.002961</td>\n",
       "    </tr>\n",
       "    <tr>\n",
       "      <th>17</th>\n",
       "      <td>Harry Potter and the Prisoner of Azkaban (Book 3)</td>\n",
       "      <td>277</td>\n",
       "      <td>9</td>\n",
       "      <td>8.971768</td>\n",
       "    </tr>\n",
       "    <tr>\n",
       "      <th>28</th>\n",
       "      <td>Harry Potter and the Goblet of Fire (Book 4)</td>\n",
       "      <td>247</td>\n",
       "      <td>9</td>\n",
       "      <td>8.968407</td>\n",
       "    </tr>\n",
       "    <tr>\n",
       "      <th>42</th>\n",
       "      <td>Harry Potter and the Order of the Phoenix (Book 5)</td>\n",
       "      <td>211</td>\n",
       "      <td>9</td>\n",
       "      <td>8.963141</td>\n",
       "    </tr>\n",
       "  </tbody>\n",
       "</table>\n",
       "</div>"
      ],
      "text/plain": [
       "                                              Book-Title  Total-Ratings  \\\n",
       "4794  Postmarked Yesteryear: 30 Rare Holiday Postcards    11              \n",
       "7272  The Sneetches and Other Stories                     8               \n",
       "17    Harry Potter and the Prisoner of Azkaban (Book 3)   277             \n",
       "28    Harry Potter and the Goblet of Fire (Book 4)        247             \n",
       "42    Harry Potter and the Order of the Phoenix (Book 5)  211             \n",
       "\n",
       "      Average Rating     score  \n",
       "4794  10              9.189906  \n",
       "7272  10              9.002961  \n",
       "17    9               8.971768  \n",
       "28    9               8.968407  \n",
       "42    9               8.963141  "
      ]
     },
     "execution_count": 69,
     "metadata": {},
     "output_type": "execute_result"
    }
   ],
   "source": [
    "df = df.loc[df['Total-Ratings'] >= m]\n",
    "\n",
    "df['score'] = df.apply(weighted_rating, axis=1)\n",
    "df = df.sort_values('score', ascending=False)\n",
    "\n",
    "print(\"Recommended Books:-\\n\")\n",
    "df.head(number)"
   ]
  },
  {
   "cell_type": "markdown",
   "metadata": {
    "id": "uwTmM94TvtFS"
   },
   "source": [
    "<b><h5>6. Collaborative Filtering (User-Item Filtering)"
   ]
  },
  {
   "cell_type": "markdown",
   "metadata": {
    "id": "1p702BN3ycRu"
   },
   "source": [
    "Selecting books with total ratings equals to or more than 50 (Because of availability of limited resources)"
   ]
  },
  {
   "cell_type": "code",
   "execution_count": 70,
   "metadata": {
    "executionInfo": {
     "elapsed": 513,
     "status": "ok",
     "timestamp": 1623912508370,
     "user": {
      "displayName": "Ashima IIITD",
      "photoUrl": "https://lh3.googleusercontent.com/a-/AOh14Gg51iTXizYDNTZkEdwmQ5GkwRQ8vp_9KTB8UVlC=s64",
      "userId": "02694856405090268186"
     },
     "user_tz": -330
    },
    "id": "WiVO9-5Mc7HH"
   },
   "outputs": [],
   "source": [
    "df = pd.DataFrame(dataset1['Book-Title'].value_counts())\n",
    "df['Total-Ratings'] = df['Book-Title']\n",
    "df['Book-Title'] = df.index\n",
    "df.reset_index(level=0, inplace=True)\n",
    "df = df.drop('index',axis=1)\n",
    "\n",
    "df = dataset1.merge(df, left_on = 'Book-Title', right_on = 'Book-Title', how = 'left')\n",
    "df = df.drop(['Year-Of-Publication','Publisher','Age','City','State','Country'], axis=1)\n",
    "\n",
    "popularity_threshold = 50\n",
    "popular_book = df[df['Total-Ratings'] >= popularity_threshold]\n",
    "popular_book = popular_book.reset_index(drop = True)"
   ]
  },
  {
   "cell_type": "markdown",
   "metadata": {
    "id": "-rS5fkuz0oY1"
   },
   "source": [
    "User - Item Collaborative Filtering"
   ]
  },
  {
   "cell_type": "code",
   "execution_count": 71,
   "metadata": {
    "executionInfo": {
     "elapsed": 860,
     "status": "ok",
     "timestamp": 1623912509228,
     "user": {
      "displayName": "Ashima IIITD",
      "photoUrl": "https://lh3.googleusercontent.com/a-/AOh14Gg51iTXizYDNTZkEdwmQ5GkwRQ8vp_9KTB8UVlC=s64",
      "userId": "02694856405090268186"
     },
     "user_tz": -330
    },
    "id": "9mEfukbkytYt"
   },
   "outputs": [],
   "source": [
    "testdf = pd.DataFrame()\n",
    "testdf['ISBN'] = popular_book['ISBN']\n",
    "testdf['Book-Rating'] = popular_book['Book-Rating']\n",
    "testdf['User-ID'] = popular_book['User-ID']\n",
    "testdf = testdf[['User-ID','Book-Rating']].groupby(testdf['ISBN'])"
   ]
  },
  {
   "cell_type": "code",
   "execution_count": 72,
   "metadata": {
    "executionInfo": {
     "elapsed": 3737,
     "status": "ok",
     "timestamp": 1623912512960,
     "user": {
      "displayName": "Ashima IIITD",
      "photoUrl": "https://lh3.googleusercontent.com/a-/AOh14Gg51iTXizYDNTZkEdwmQ5GkwRQ8vp_9KTB8UVlC=s64",
      "userId": "02694856405090268186"
     },
     "user_tz": -330
    },
    "id": "r66TqAWGytgA"
   },
   "outputs": [],
   "source": [
    "listOfDictonaries=[]\n",
    "indexMap = {}\n",
    "reverseIndexMap = {}\n",
    "ptr=0\n",
    "\n",
    "for groupKey in testdf.groups.keys():\n",
    "    tempDict={}\n",
    "    groupDF = testdf.get_group(groupKey)\n",
    "    for i in range(0,len(groupDF)):\n",
    "        tempDict[groupDF.iloc[i,0]] = groupDF.iloc[i,1]\n",
    "    indexMap[ptr]=groupKey\n",
    "    reverseIndexMap[groupKey] = ptr\n",
    "    ptr=ptr+1\n",
    "    listOfDictonaries.append(tempDict)\n",
    "\n",
    "dictVectorizer = DictVectorizer(sparse=True)\n",
    "vector = dictVectorizer.fit_transform(listOfDictonaries)\n",
    "pairwiseSimilarity = cosine_similarity(vector)"
   ]
  },
  {
   "cell_type": "code",
   "execution_count": 73,
   "metadata": {
    "executionInfo": {
     "elapsed": 6,
     "status": "ok",
     "timestamp": 1623912512961,
     "user": {
      "displayName": "Ashima IIITD",
      "photoUrl": "https://lh3.googleusercontent.com/a-/AOh14Gg51iTXizYDNTZkEdwmQ5GkwRQ8vp_9KTB8UVlC=s64",
      "userId": "02694856405090268186"
     },
     "user_tz": -330
    },
    "id": "IzIV0D0W1c8T"
   },
   "outputs": [],
   "source": [
    "def printBookDetails(bookID):\n",
    "    print(dataset1[dataset1['ISBN']==bookID]['Book-Title'].values[0])\n",
    "    \"\"\"\n",
    "    print(\"Title:\", dataset1[dataset1['ISBN']==bookID]['Book-Title'].values[0])\n",
    "    print(\"Author:\",dataset1[dataset['ISBN']==bookID]['Book-Author'].values[0])\n",
    "    #print(\"Printing Book-ID:\",bookID)\n",
    "    print(\"\\n\")\n",
    "    \"\"\"\n",
    "\n",
    "def getTopRecommandations(bookID):\n",
    "    collaborative = []\n",
    "    row = reverseIndexMap[bookID]\n",
    "    print(\"Input Book:\")\n",
    "    printBookDetails(bookID)\n",
    "    \n",
    "    print(\"\\nRECOMMENDATIONS:\\n\")\n",
    "    \n",
    "    mn = 0\n",
    "    similar = []\n",
    "    for i in np.argsort(pairwiseSimilarity[row])[:-2][::-1]:\n",
    "          if dataset1[dataset1['ISBN']==indexMap[i]]['Book-Title'].values[0] not in similar:\n",
    "                if mn>=number:\n",
    "                      break\n",
    "                mn+=1\n",
    "                similar.append(dataset1[dataset1['ISBN']==indexMap[i]]['Book-Title'].values[0])\n",
    "                printBookDetails(indexMap[i])\n",
    "                collaborative.append(dataset1[dataset1['ISBN']==indexMap[i]]['Book-Title'].values[0])\n",
    "    return collaborative"
   ]
  },
  {
   "cell_type": "code",
   "execution_count": 74,
   "metadata": {
    "colab": {
     "base_uri": "https://localhost:8080/"
    },
    "executionInfo": {
     "elapsed": 1089,
     "status": "ok",
     "timestamp": 1623912514046,
     "user": {
      "displayName": "Ashima IIITD",
      "photoUrl": "https://lh3.googleusercontent.com/a-/AOh14Gg51iTXizYDNTZkEdwmQ5GkwRQ8vp_9KTB8UVlC=s64",
      "userId": "02694856405090268186"
     },
     "user_tz": -330
    },
    "id": "S-nsb0Vy1USo",
    "outputId": "3a9a9d5f-bac2-4b16-8d66-2f4256eb4d69"
   },
   "outputs": [
    {
     "name": "stdout",
     "output_type": "stream",
     "text": [
      "Input Book:\n",
      "Harry Potter and the Sorcerer's Stone (Harry Potter (Paperback))\n",
      "\n",
      "RECOMMENDATIONS:\n",
      "\n",
      "Harry Potter and the Prisoner of Azkaban (Book 3)\n",
      "Harry Potter and the Goblet of Fire (Book 4)\n",
      "Harry Potter and the Order of the Phoenix (Book 5)\n",
      "Harry Potter and the Chamber of Secrets (Book 2)\n",
      "Fried Green Tomatoes at the Whistle Stop Cafe\n"
     ]
    }
   ],
   "source": [
    "k = list(dataset1['Book-Title'])\n",
    "m = list(dataset1['ISBN'])\n",
    "\n",
    "collaborative = getTopRecommandations(m[k.index(bookName)])"
   ]
  },
  {
   "cell_type": "markdown",
   "metadata": {
    "id": "6V2ytbvjyhzb"
   },
   "source": [
    "<b><h5>7. Correlation Based"
   ]
  },
  {
   "cell_type": "code",
   "execution_count": 75,
   "metadata": {
    "executionInfo": {
     "elapsed": 3248,
     "status": "ok",
     "timestamp": 1623912517292,
     "user": {
      "displayName": "Ashima IIITD",
      "photoUrl": "https://lh3.googleusercontent.com/a-/AOh14Gg51iTXizYDNTZkEdwmQ5GkwRQ8vp_9KTB8UVlC=s64",
      "userId": "02694856405090268186"
     },
     "user_tz": -330
    },
    "id": "aufg2Tzatv__"
   },
   "outputs": [],
   "source": [
    "popularity_threshold = 50\n",
    "\n",
    "user_count = dataset1['User-ID'].value_counts()\n",
    "data = dataset1[dataset1['User-ID'].isin(user_count[user_count >= popularity_threshold].index)]\n",
    "rat_count = data['Book-Rating'].value_counts()\n",
    "data = data[data['Book-Rating'].isin(rat_count[rat_count >= popularity_threshold].index)]\n",
    "\n",
    "matrix = data.pivot_table(index='User-ID', columns='ISBN', values = 'Book-Rating').fillna(0)"
   ]
  },
  {
   "cell_type": "code",
   "execution_count": 76,
   "metadata": {
    "colab": {
     "base_uri": "https://localhost:8080/",
     "height": 235
    },
    "executionInfo": {
     "elapsed": 1086,
     "status": "ok",
     "timestamp": 1623912518366,
     "user": {
      "displayName": "Ashima IIITD",
      "photoUrl": "https://lh3.googleusercontent.com/a-/AOh14Gg51iTXizYDNTZkEdwmQ5GkwRQ8vp_9KTB8UVlC=s64",
      "userId": "02694856405090268186"
     },
     "user_tz": -330
    },
    "id": "NcaXUCR8T5z7",
    "outputId": "99f56996-f96d-4416-e8ec-214eb6588511"
   },
   "outputs": [
    {
     "data": {
      "text/html": [
       "<div>\n",
       "<style scoped>\n",
       "    .dataframe tbody tr th:only-of-type {\n",
       "        vertical-align: middle;\n",
       "    }\n",
       "\n",
       "    .dataframe tbody tr th {\n",
       "        vertical-align: top;\n",
       "    }\n",
       "\n",
       "    .dataframe thead th {\n",
       "        text-align: right;\n",
       "    }\n",
       "</style>\n",
       "<table border=\"1\" class=\"dataframe\">\n",
       "  <thead>\n",
       "    <tr style=\"text-align: right;\">\n",
       "      <th></th>\n",
       "      <th>Book-Rating</th>\n",
       "      <th>ratingCount</th>\n",
       "    </tr>\n",
       "    <tr>\n",
       "      <th>ISBN</th>\n",
       "      <th></th>\n",
       "      <th></th>\n",
       "    </tr>\n",
       "  </thead>\n",
       "  <tbody>\n",
       "    <tr>\n",
       "      <th>0971880107</th>\n",
       "      <td>4.390706</td>\n",
       "      <td>2502</td>\n",
       "    </tr>\n",
       "    <tr>\n",
       "      <th>0316666343</th>\n",
       "      <td>8.185290</td>\n",
       "      <td>1295</td>\n",
       "    </tr>\n",
       "    <tr>\n",
       "      <th>0385504209</th>\n",
       "      <td>8.426230</td>\n",
       "      <td>884</td>\n",
       "    </tr>\n",
       "    <tr>\n",
       "      <th>0060928336</th>\n",
       "      <td>7.887500</td>\n",
       "      <td>732</td>\n",
       "    </tr>\n",
       "    <tr>\n",
       "      <th>0312195516</th>\n",
       "      <td>8.182768</td>\n",
       "      <td>723</td>\n",
       "    </tr>\n",
       "  </tbody>\n",
       "</table>\n",
       "</div>"
      ],
      "text/plain": [
       "            Book-Rating  ratingCount\n",
       "ISBN                                \n",
       "0971880107  4.390706     2502       \n",
       "0316666343  8.185290     1295       \n",
       "0385504209  8.426230     884        \n",
       "0060928336  7.887500     732        \n",
       "0312195516  8.182768     723        "
      ]
     },
     "execution_count": 76,
     "metadata": {},
     "output_type": "execute_result"
    }
   ],
   "source": [
    "average_rating = pd.DataFrame(dataset1.groupby('ISBN')['Book-Rating'].mean())\n",
    "average_rating['ratingCount'] = pd.DataFrame(ratings.groupby('ISBN')['Book-Rating'].count())\n",
    "average_rating.sort_values('ratingCount', ascending=False).head()"
   ]
  },
  {
   "cell_type": "code",
   "execution_count": 77,
   "metadata": {
    "colab": {
     "base_uri": "https://localhost:8080/",
     "height": 255
    },
    "executionInfo": {
     "elapsed": 24185,
     "status": "ok",
     "timestamp": 1623912542547,
     "user": {
      "displayName": "Ashima IIITD",
      "photoUrl": "https://lh3.googleusercontent.com/a-/AOh14Gg51iTXizYDNTZkEdwmQ5GkwRQ8vp_9KTB8UVlC=s64",
      "userId": "02694856405090268186"
     },
     "user_tz": -330
    },
    "id": "NFkNNpoNT53I",
    "outputId": "542caebf-67c0-42eb-9613-609438cc11c4"
   },
   "outputs": [
    {
     "name": "stdout",
     "output_type": "stream",
     "text": [
      "\n",
      " Recommended Books: \n",
      "\n"
     ]
    },
    {
     "data": {
      "text/html": [
       "<div>\n",
       "<style scoped>\n",
       "    .dataframe tbody tr th:only-of-type {\n",
       "        vertical-align: middle;\n",
       "    }\n",
       "\n",
       "    .dataframe tbody tr th {\n",
       "        vertical-align: top;\n",
       "    }\n",
       "\n",
       "    .dataframe thead th {\n",
       "        text-align: right;\n",
       "    }\n",
       "</style>\n",
       "<table border=\"1\" class=\"dataframe\">\n",
       "  <thead>\n",
       "    <tr style=\"text-align: right;\">\n",
       "      <th></th>\n",
       "      <th>ISBN</th>\n",
       "      <th>Book-Title</th>\n",
       "      <th>Book-Author</th>\n",
       "      <th>Year-Of-Publication</th>\n",
       "      <th>Publisher</th>\n",
       "    </tr>\n",
       "  </thead>\n",
       "  <tbody>\n",
       "    <tr>\n",
       "      <th>0</th>\n",
       "      <td>0439064872</td>\n",
       "      <td>Harry Potter and the Chamber of Secrets (Book 2)</td>\n",
       "      <td>J. K. Rowling</td>\n",
       "      <td>2000</td>\n",
       "      <td>Scholastic</td>\n",
       "    </tr>\n",
       "    <tr>\n",
       "      <th>1</th>\n",
       "      <td>0439136369</td>\n",
       "      <td>Harry Potter and the Prisoner of Azkaban (Book 3)</td>\n",
       "      <td>J. K. Rowling</td>\n",
       "      <td>2001</td>\n",
       "      <td>Scholastic</td>\n",
       "    </tr>\n",
       "    <tr>\n",
       "      <th>2</th>\n",
       "      <td>0439139597</td>\n",
       "      <td>Harry Potter and the Goblet of Fire (Book 4)</td>\n",
       "      <td>J. K. Rowling</td>\n",
       "      <td>2000</td>\n",
       "      <td>Scholastic</td>\n",
       "    </tr>\n",
       "    <tr>\n",
       "      <th>3</th>\n",
       "      <td>0804115613</td>\n",
       "      <td>Fried Green Tomatoes at the Whistle Stop Cafe</td>\n",
       "      <td>Fannie Flagg</td>\n",
       "      <td>2000</td>\n",
       "      <td>Ballantine Books</td>\n",
       "    </tr>\n",
       "    <tr>\n",
       "      <th>4</th>\n",
       "      <td>0439139600</td>\n",
       "      <td>Harry Potter and the Goblet of Fire (Book 4)</td>\n",
       "      <td>J. K. Rowling</td>\n",
       "      <td>2002</td>\n",
       "      <td>Scholastic Paperbacks</td>\n",
       "    </tr>\n",
       "  </tbody>\n",
       "</table>\n",
       "</div>"
      ],
      "text/plain": [
       "         ISBN                                         Book-Title  \\\n",
       "0  0439064872  Harry Potter and the Chamber of Secrets (Book 2)    \n",
       "1  0439136369  Harry Potter and the Prisoner of Azkaban (Book 3)   \n",
       "2  0439139597  Harry Potter and the Goblet of Fire (Book 4)        \n",
       "3  0804115613  Fried Green Tomatoes at the Whistle Stop Cafe       \n",
       "4  0439139600  Harry Potter and the Goblet of Fire (Book 4)        \n",
       "\n",
       "     Book-Author  Year-Of-Publication              Publisher  \n",
       "0  J. K. Rowling  2000                 Scholastic             \n",
       "1  J. K. Rowling  2001                 Scholastic             \n",
       "2  J. K. Rowling  2000                 Scholastic             \n",
       "3  Fannie Flagg   2000                 Ballantine Books       \n",
       "4  J. K. Rowling  2002                 Scholastic Paperbacks  "
      ]
     },
     "execution_count": 77,
     "metadata": {},
     "output_type": "execute_result"
    }
   ],
   "source": [
    "isbn = books.loc[books['Book-Title'] == bookName].reset_index(drop = True).iloc[0]['ISBN']\n",
    "row = matrix[isbn]\n",
    "correlation = pd.DataFrame(matrix.corrwith(row), columns = ['Pearson Corr'])\n",
    "corr = correlation.join(average_rating['ratingCount'])\n",
    "\n",
    "res = corr.sort_values('Pearson Corr', ascending=False).head(number+1)[1:].index\n",
    "corr_books = pd.merge(pd.DataFrame(res, columns = ['ISBN']), books, on='ISBN')\n",
    "print(\"\\n Recommended Books: \\n\")\n",
    "corr_books"
   ]
  },
  {
   "cell_type": "markdown",
   "metadata": {
    "id": "y0Ci0b0MdTtX"
   },
   "source": [
    "<h5><b>8. Nearest Neighbours Based"
   ]
  },
  {
   "cell_type": "code",
   "execution_count": 78,
   "metadata": {
    "executionInfo": {
     "elapsed": 1918,
     "status": "ok",
     "timestamp": 1623912544451,
     "user": {
      "displayName": "Ashima IIITD",
      "photoUrl": "https://lh3.googleusercontent.com/a-/AOh14Gg51iTXizYDNTZkEdwmQ5GkwRQ8vp_9KTB8UVlC=s64",
      "userId": "02694856405090268186"
     },
     "user_tz": -330
    },
    "id": "VHzpuua9XDMA"
   },
   "outputs": [],
   "source": [
    "data = (dataset1.groupby(by = ['Book-Title'])['Book-Rating'].count().reset_index().\n",
    "        rename(columns = {'Book-Rating': 'Total-Rating'})[['Book-Title', 'Total-Rating']])\n",
    "\n",
    "result = pd.merge(data, dataset1, on='Book-Title', left_index = True)\n",
    "result = result[result['Total-Rating'] >= popularity_threshold]\n",
    "result = result.reset_index(drop = True)\n",
    "\n",
    "matrix = result.pivot_table(index = 'Book-Title', columns = 'User-ID', values = 'Book-Rating').fillna(0)\n",
    "up_matrix = csr_matrix(matrix)"
   ]
  },
  {
   "cell_type": "code",
   "execution_count": 79,
   "metadata": {
    "colab": {
     "base_uri": "https://localhost:8080/"
    },
    "executionInfo": {
     "elapsed": 10,
     "status": "ok",
     "timestamp": 1623912544452,
     "user": {
      "displayName": "Ashima IIITD",
      "photoUrl": "https://lh3.googleusercontent.com/a-/AOh14Gg51iTXizYDNTZkEdwmQ5GkwRQ8vp_9KTB8UVlC=s64",
      "userId": "02694856405090268186"
     },
     "user_tz": -330
    },
    "id": "ljXA5pa6fWLE",
    "outputId": "86a3c600-a296-4d60-c34a-35f2db0b1818"
   },
   "outputs": [
    {
     "name": "stdout",
     "output_type": "stream",
     "text": [
      "\n",
      "Recommended books:\n",
      "\n",
      "Harry Potter and the Chamber of Secrets (Book 2)\n",
      "Harry Potter and the Prisoner of Azkaban (Book 3)\n",
      "Harry Potter and the Goblet of Fire (Book 4)\n",
      "Harry Potter and the Order of the Phoenix (Book 5)\n",
      "The Fellowship of the Ring (The Lord of the Rings, Part 1)\n"
     ]
    }
   ],
   "source": [
    "model = NearestNeighbors(metric = 'cosine', algorithm = 'brute')\n",
    "model.fit(up_matrix)\n",
    "\n",
    "distances, indices = model.kneighbors(matrix.loc[bookName].values.reshape(1, -1), n_neighbors = number+1)\n",
    "print(\"\\nRecommended books:\\n\")\n",
    "for i in range(0, len(distances.flatten())):\n",
    "    if i > 0:\n",
    "        print(matrix.index[indices.flatten()[i]]) "
   ]
  },
  {
   "cell_type": "markdown",
   "metadata": {
    "id": "szabjbQfynby"
   },
   "source": [
    "<h5><b>9. Content Based"
   ]
  },
  {
   "cell_type": "code",
   "execution_count": 80,
   "metadata": {
    "colab": {
     "base_uri": "https://localhost:8080/"
    },
    "executionInfo": {
     "elapsed": 9,
     "status": "ok",
     "timestamp": 1623912544452,
     "user": {
      "displayName": "Ashima IIITD",
      "photoUrl": "https://lh3.googleusercontent.com/a-/AOh14Gg51iTXizYDNTZkEdwmQ5GkwRQ8vp_9KTB8UVlC=s64",
      "userId": "02694856405090268186"
     },
     "user_tz": -330
    },
    "id": "W0XtLZRz984K",
    "outputId": "4273e2b5-9448-4d7d-ba17-a5afb0f3d35a"
   },
   "outputs": [
    {
     "data": {
      "text/plain": [
       "(44652, 6)"
      ]
     },
     "execution_count": 80,
     "metadata": {},
     "output_type": "execute_result"
    }
   ],
   "source": [
    "popularity_threshold = 80\n",
    "popular_book = df[df['Total-Ratings'] >= popularity_threshold]\n",
    "popular_book = popular_book.reset_index(drop = True)\n",
    "popular_book.shape"
   ]
  },
  {
   "cell_type": "code",
   "execution_count": 81,
   "metadata": {
    "colab": {
     "base_uri": "https://localhost:8080/"
    },
    "executionInfo": {
     "elapsed": 489,
     "status": "ok",
     "timestamp": 1623912544937,
     "user": {
      "displayName": "Ashima IIITD",
      "photoUrl": "https://lh3.googleusercontent.com/a-/AOh14Gg51iTXizYDNTZkEdwmQ5GkwRQ8vp_9KTB8UVlC=s64",
      "userId": "02694856405090268186"
     },
     "user_tz": -330
    },
    "id": "Hl5c0U0V99Z4",
    "outputId": "bdd805b7-5aaf-4f7b-fbe8-07a4fec80787"
   },
   "outputs": [
    {
     "data": {
      "text/plain": [
       "(44652, 1112)"
      ]
     },
     "execution_count": 81,
     "metadata": {},
     "output_type": "execute_result"
    }
   ],
   "source": [
    "tf = TfidfVectorizer(ngram_range=(1, 2), min_df = 1, stop_words='english')\n",
    "tfidf_matrix = tf.fit_transform(popular_book['Book-Title'])\n",
    "tfidf_matrix.shape"
   ]
  },
  {
   "cell_type": "code",
   "execution_count": null,
   "metadata": {
    "colab": {
     "base_uri": "https://localhost:8080/"
    },
    "executionInfo": {
     "elapsed": 14440,
     "status": "ok",
     "timestamp": 1623912559376,
     "user": {
      "displayName": "Ashima IIITD",
      "photoUrl": "https://lh3.googleusercontent.com/a-/AOh14Gg51iTXizYDNTZkEdwmQ5GkwRQ8vp_9KTB8UVlC=s64",
      "userId": "02694856405090268186"
     },
     "user_tz": -330
    },
    "id": "ChPiIM2O4cE-",
    "outputId": "d4874175-1261-4591-e785-3e0a0b31fd19"
   },
   "outputs": [],
   "source": [
    "normalized_df = tfidf_matrix.astype(np.float32)\n",
    "cosine_similarities = cosine_similarity(normalized_df, normalized_df)\n",
    "cosine_similarities.shape"
   ]
  },
  {
   "cell_type": "code",
   "execution_count": null,
   "metadata": {
    "colab": {
     "base_uri": "https://localhost:8080/"
    },
    "executionInfo": {
     "elapsed": 670,
     "status": "ok",
     "timestamp": 1623912560044,
     "user": {
      "displayName": "Ashima IIITD",
      "photoUrl": "https://lh3.googleusercontent.com/a-/AOh14Gg51iTXizYDNTZkEdwmQ5GkwRQ8vp_9KTB8UVlC=s64",
      "userId": "02694856405090268186"
     },
     "user_tz": -330
    },
    "id": "ZqGC4lR0GJGE",
    "outputId": "d4ab119d-ba62-4499-f727-71b0a3178093"
   },
   "outputs": [
    {
     "name": "stdout",
     "output_type": "stream",
     "text": [
      "Recommended Books:\n",
      "\n",
      "Harry Potter and the Sorcerer's Stone (Book 1)\n",
      "Harry Potter and the Goblet of Fire (Book 4)\n",
      "Harry Potter and the Chamber of Secrets (Book 2)\n",
      "Harry Potter and the Prisoner of Azkaban (Book 3)\n",
      "Harry Potter and the Order of the Phoenix (Book 5)\n"
     ]
    }
   ],
   "source": [
    "print(\"Recommended Books:\\n\")\n",
    "isbn = books.loc[books['Book-Title'] == bookName].reset_index(drop = True).iloc[0]['ISBN']\n",
    "content = []\n",
    "\n",
    "idx = popular_book.index[popular_book['ISBN'] == isbn].tolist()[0]\n",
    "similar_indices = cosine_similarities[idx].argsort()[::-1]\n",
    "similar_items = []\n",
    "for i in similar_indices:\n",
    "    if popular_book['Book-Title'][i] != bookName and popular_book['Book-Title'][i] not in similar_items and len(similar_items) < number:\n",
    "        similar_items.append(popular_book['Book-Title'][i])\n",
    "        content.append(popular_book['Book-Title'][i])\n",
    "\n",
    "for book in similar_items:\n",
    "    print(book)"
   ]
  },
  {
   "cell_type": "markdown",
   "metadata": {
    "id": "o8QpuMrECO_E"
   },
   "source": [
    "<b><h5>10. Hybrid Approach (Content+Collaborative) Using percentile"
   ]
  },
  {
   "cell_type": "code",
   "execution_count": 84,
   "metadata": {
    "colab": {
     "base_uri": "https://localhost:8080/"
    },
    "executionInfo": {
     "elapsed": 11,
     "status": "ok",
     "timestamp": 1623912560045,
     "user": {
      "displayName": "Ashima IIITD",
      "photoUrl": "https://lh3.googleusercontent.com/a-/AOh14Gg51iTXizYDNTZkEdwmQ5GkwRQ8vp_9KTB8UVlC=s64",
      "userId": "02694856405090268186"
     },
     "user_tz": -330
    },
    "id": "hFprQgdiO4Pg",
    "outputId": "a581c0f9-ad56-40ba-a981-ebf62505cfe8"
   },
   "outputs": [
    {
     "name": "stdout",
     "output_type": "stream",
     "text": [
      "Input Book:\n",
      "\n",
      "Harry Potter and the Sorcerer's Stone (Harry Potter (Paperback))\n",
      "\n",
      "Recommended Books:\n",
      "\n",
      "Harry Potter and the Goblet of Fire (Book 4)\n",
      "Harry Potter and the Prisoner of Azkaban (Book 3)\n",
      "Harry Potter and the Sorcerer's Stone (Book 1)\n",
      "Harry Potter and the Chamber of Secrets (Book 2)\n",
      "Harry Potter and the Order of the Phoenix (Book 5)\n"
     ]
    }
   ],
   "source": [
    "z = list()\n",
    "k = float(1/number)\n",
    "for x in range(number):\n",
    "      z.append(1-k*x)\n",
    "\n",
    "dictISBN = {}\n",
    "for x in collaborative:\n",
    "      dictISBN[x] = z[collaborative.index(x)]\n",
    "\n",
    "for x in content:\n",
    "    if x not in dictISBN:\n",
    "        dictISBN[x] = z[content.index(x)]\n",
    "    else:\n",
    "        dictISBN[x] += z[content.index(x)]\n",
    "\n",
    "ISBN = dict(sorted(dictISBN.items(),key=operator.itemgetter(1),reverse=True))\n",
    "w=0\n",
    "print(\"Input Book:\\n\")\n",
    "print(bookName)\n",
    "print(\"\\nRecommended Books:\\n\")\n",
    "for x in ISBN.keys():\n",
    "    if w>=number:\n",
    "        break\n",
    "    w+=1\n",
    "    print(x)"
   ]
  }
 ],
 "metadata": {
  "colab": {
   "collapsed_sections": [],
   "name": "BRS.ipynb",
   "provenance": []
  },
  "kernelspec": {
   "display_name": "Python 3",
   "language": "python",
   "name": "python3"
  },
  "language_info": {
   "codemirror_mode": {
    "name": "ipython",
    "version": 3
   },
   "file_extension": ".py",
   "mimetype": "text/x-python",
   "name": "python",
   "nbconvert_exporter": "python",
   "pygments_lexer": "ipython3",
   "version": "3.9.0"
  }
 },
 "nbformat": 4,
 "nbformat_minor": 1
}
